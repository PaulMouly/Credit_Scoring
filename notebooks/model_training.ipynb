{
 "cells": [
  {
   "cell_type": "markdown",
   "id": "78ae925e",
   "metadata": {},
   "source": [
    "#### Importation des librairies :"
   ]
  },
  {
   "cell_type": "code",
   "execution_count": 19,
   "id": "0abde9b7",
   "metadata": {
    "collapsed": true
   },
   "outputs": [
    {
     "name": "stdout",
     "output_type": "stream",
     "text": [
      "Collecting xgboostNote: you may need to restart the kernel to use updated packages.\n",
      "\n",
      "  Using cached xgboost-2.1.0-py3-none-win_amd64.whl.metadata (2.1 kB)\n",
      "Requirement already satisfied: numpy in c:\\users\\paulm\\anaconda3\\envs\\notebook-6.5.7\\lib\\site-packages (from xgboost) (1.26.4)\n",
      "Requirement already satisfied: scipy in c:\\users\\paulm\\anaconda3\\envs\\notebook-6.5.7\\lib\\site-packages (from xgboost) (1.14.0)\n",
      "Using cached xgboost-2.1.0-py3-none-win_amd64.whl (124.9 MB)\n",
      "Installing collected packages: xgboost\n",
      "Successfully installed xgboost-2.1.0\n"
     ]
    }
   ],
   "source": [
    "pip install xgboost"
   ]
  },
  {
   "cell_type": "code",
   "execution_count": 4,
   "id": "9711215a",
   "metadata": {
    "collapsed": true
   },
   "outputs": [
    {
     "name": "stdout",
     "output_type": "stream",
     "text": [
      "Requirement already satisfied: mlflow in c:\\users\\paulm\\anaconda3\\envs\\notebook-6.5.7\\lib\\site-packages (2.14.1)\n",
      "Requirement already satisfied: Flask<4 in c:\\users\\paulm\\anaconda3\\envs\\notebook-6.5.7\\lib\\site-packages (from mlflow) (3.0.3)\n",
      "Requirement already satisfied: alembic!=1.10.0,<2 in c:\\users\\paulm\\anaconda3\\envs\\notebook-6.5.7\\lib\\site-packages (from mlflow) (1.13.2)\n",
      "Requirement already satisfied: cachetools<6,>=5.0.0 in c:\\users\\paulm\\anaconda3\\envs\\notebook-6.5.7\\lib\\site-packages (from mlflow) (5.3.3)\n",
      "Requirement already satisfied: click<9,>=7.0 in c:\\users\\paulm\\anaconda3\\envs\\notebook-6.5.7\\lib\\site-packages (from mlflow) (8.1.7)\n",
      "Requirement already satisfied: cloudpickle<4 in c:\\users\\paulm\\anaconda3\\envs\\notebook-6.5.7\\lib\\site-packages (from mlflow) (3.0.0)\n",
      "Requirement already satisfied: docker<8,>=4.0.0 in c:\\users\\paulm\\anaconda3\\envs\\notebook-6.5.7\\lib\\site-packages (from mlflow) (7.1.0)\n",
      "Requirement already satisfied: entrypoints<1 in c:\\users\\paulm\\anaconda3\\envs\\notebook-6.5.7\\lib\\site-packages (from mlflow) (0.4)\n",
      "Requirement already satisfied: gitpython<4,>=3.1.9 in c:\\users\\paulm\\anaconda3\\envs\\notebook-6.5.7\\lib\\site-packages (from mlflow) (3.1.43)\n",
      "Requirement already satisfied: graphene<4 in c:\\users\\paulm\\anaconda3\\envs\\notebook-6.5.7\\lib\\site-packages (from mlflow) (3.3)\n",
      "Requirement already satisfied: importlib-metadata!=4.7.0,<8,>=3.7.0 in c:\\users\\paulm\\anaconda3\\envs\\notebook-6.5.7\\lib\\site-packages (from mlflow) (7.1.0)\n",
      "Requirement already satisfied: markdown<4,>=3.3 in c:\\users\\paulm\\anaconda3\\envs\\notebook-6.5.7\\lib\\site-packages (from mlflow) (3.6)\n",
      "Requirement already satisfied: matplotlib<4 in c:\\users\\paulm\\anaconda3\\envs\\notebook-6.5.7\\lib\\site-packages (from mlflow) (3.9.0)\n",
      "Requirement already satisfied: numpy<2 in c:\\users\\paulm\\anaconda3\\envs\\notebook-6.5.7\\lib\\site-packages (from mlflow) (1.26.4)\n",
      "Requirement already satisfied: opentelemetry-api<3,>=1.9.0 in c:\\users\\paulm\\anaconda3\\envs\\notebook-6.5.7\\lib\\site-packages (from mlflow) (1.25.0)\n",
      "Requirement already satisfied: opentelemetry-sdk<3,>=1.9.0 in c:\\users\\paulm\\anaconda3\\envs\\notebook-6.5.7\\lib\\site-packages (from mlflow) (1.25.0)\n",
      "Requirement already satisfied: packaging<25 in c:\\users\\paulm\\anaconda3\\envs\\notebook-6.5.7\\lib\\site-packages (from mlflow) (23.2)\n",
      "Requirement already satisfied: pandas<3 in c:\\users\\paulm\\anaconda3\\envs\\notebook-6.5.7\\lib\\site-packages (from mlflow) (2.2.2)\n",
      "Requirement already satisfied: protobuf<5,>=3.12.0 in c:\\users\\paulm\\anaconda3\\envs\\notebook-6.5.7\\lib\\site-packages (from mlflow) (4.25.3)\n",
      "Requirement already satisfied: pyarrow<16,>=4.0.0 in c:\\users\\paulm\\anaconda3\\envs\\notebook-6.5.7\\lib\\site-packages (from mlflow) (15.0.2)\n",
      "Requirement already satisfied: pytz<2025 in c:\\users\\paulm\\anaconda3\\envs\\notebook-6.5.7\\lib\\site-packages (from mlflow) (2024.1)\n",
      "Requirement already satisfied: pyyaml<7,>=5.1 in c:\\users\\paulm\\anaconda3\\envs\\notebook-6.5.7\\lib\\site-packages (from mlflow) (6.0.1)\n",
      "Requirement already satisfied: querystring-parser<2 in c:\\users\\paulm\\anaconda3\\envs\\notebook-6.5.7\\lib\\site-packages (from mlflow) (1.2.4)\n",
      "Requirement already satisfied: requests<3,>=2.17.3 in c:\\users\\paulm\\anaconda3\\envs\\notebook-6.5.7\\lib\\site-packages (from mlflow) (2.32.3)\n",
      "Requirement already satisfied: scikit-learn<2 in c:\\users\\paulm\\anaconda3\\envs\\notebook-6.5.7\\lib\\site-packages (from mlflow) (1.5.0)\n",
      "Requirement already satisfied: scipy<2 in c:\\users\\paulm\\anaconda3\\envs\\notebook-6.5.7\\lib\\site-packages (from mlflow) (1.14.0)\n",
      "Requirement already satisfied: sqlalchemy<3,>=1.4.0 in c:\\users\\paulm\\anaconda3\\envs\\notebook-6.5.7\\lib\\site-packages (from mlflow) (2.0.31)\n",
      "Requirement already satisfied: sqlparse<1,>=0.4.0 in c:\\users\\paulm\\anaconda3\\envs\\notebook-6.5.7\\lib\\site-packages (from mlflow) (0.5.0)\n",
      "Requirement already satisfied: Jinja2<4,>=3.0 in c:\\users\\paulm\\anaconda3\\envs\\notebook-6.5.7\\lib\\site-packages (from mlflow) (3.1.4)\n",
      "Requirement already satisfied: waitress<4 in c:\\users\\paulm\\anaconda3\\envs\\notebook-6.5.7\\lib\\site-packages (from mlflow) (3.0.0)\n",
      "Requirement already satisfied: Mako in c:\\users\\paulm\\anaconda3\\envs\\notebook-6.5.7\\lib\\site-packages (from alembic!=1.10.0,<2->mlflow) (1.3.5)\n",
      "Requirement already satisfied: typing-extensions>=4 in c:\\users\\paulm\\anaconda3\\envs\\notebook-6.5.7\\lib\\site-packages (from alembic!=1.10.0,<2->mlflow) (4.11.0)\n",
      "Requirement already satisfied: colorama in c:\\users\\paulm\\anaconda3\\envs\\notebook-6.5.7\\lib\\site-packages (from click<9,>=7.0->mlflow) (0.4.6)\n",
      "Requirement already satisfied: pywin32>=304 in c:\\users\\paulm\\anaconda3\\envs\\notebook-6.5.7\\lib\\site-packages (from docker<8,>=4.0.0->mlflow) (305.1)\n",
      "Requirement already satisfied: urllib3>=1.26.0 in c:\\users\\paulm\\anaconda3\\envs\\notebook-6.5.7\\lib\\site-packages (from docker<8,>=4.0.0->mlflow) (2.2.2)\n",
      "Requirement already satisfied: Werkzeug>=3.0.0 in c:\\users\\paulm\\anaconda3\\envs\\notebook-6.5.7\\lib\\site-packages (from Flask<4->mlflow) (3.0.3)\n",
      "Requirement already satisfied: itsdangerous>=2.1.2 in c:\\users\\paulm\\anaconda3\\envs\\notebook-6.5.7\\lib\\site-packages (from Flask<4->mlflow) (2.2.0)\n",
      "Requirement already satisfied: blinker>=1.6.2 in c:\\users\\paulm\\anaconda3\\envs\\notebook-6.5.7\\lib\\site-packages (from Flask<4->mlflow) (1.8.2)\n",
      "Requirement already satisfied: gitdb<5,>=4.0.1 in c:\\users\\paulm\\anaconda3\\envs\\notebook-6.5.7\\lib\\site-packages (from gitpython<4,>=3.1.9->mlflow) (4.0.11)\n",
      "Requirement already satisfied: graphql-core<3.3,>=3.1 in c:\\users\\paulm\\anaconda3\\envs\\notebook-6.5.7\\lib\\site-packages (from graphene<4->mlflow) (3.2.3)\n",
      "Requirement already satisfied: graphql-relay<3.3,>=3.1 in c:\\users\\paulm\\anaconda3\\envs\\notebook-6.5.7\\lib\\site-packages (from graphene<4->mlflow) (3.2.0)\n",
      "Requirement already satisfied: aniso8601<10,>=8 in c:\\users\\paulm\\anaconda3\\envs\\notebook-6.5.7\\lib\\site-packages (from graphene<4->mlflow) (9.0.1)\n",
      "Requirement already satisfied: zipp>=0.5 in c:\\users\\paulm\\anaconda3\\envs\\notebook-6.5.7\\lib\\site-packages (from importlib-metadata!=4.7.0,<8,>=3.7.0->mlflow) (3.19.2)\n",
      "Requirement already satisfied: MarkupSafe>=2.0 in c:\\users\\paulm\\anaconda3\\envs\\notebook-6.5.7\\lib\\site-packages (from Jinja2<4,>=3.0->mlflow) (2.1.3)\n",
      "Requirement already satisfied: contourpy>=1.0.1 in c:\\users\\paulm\\anaconda3\\envs\\notebook-6.5.7\\lib\\site-packages (from matplotlib<4->mlflow) (1.2.1)\n",
      "Requirement already satisfied: cycler>=0.10 in c:\\users\\paulm\\anaconda3\\envs\\notebook-6.5.7\\lib\\site-packages (from matplotlib<4->mlflow) (0.12.1)\n",
      "Requirement already satisfied: fonttools>=4.22.0 in c:\\users\\paulm\\anaconda3\\envs\\notebook-6.5.7\\lib\\site-packages (from matplotlib<4->mlflow) (4.53.0)\n",
      "Requirement already satisfied: kiwisolver>=1.3.1 in c:\\users\\paulm\\anaconda3\\envs\\notebook-6.5.7\\lib\\site-packages (from matplotlib<4->mlflow) (1.4.5)\n",
      "Requirement already satisfied: pillow>=8 in c:\\users\\paulm\\anaconda3\\envs\\notebook-6.5.7\\lib\\site-packages (from matplotlib<4->mlflow) (10.3.0)\n",
      "Requirement already satisfied: pyparsing>=2.3.1 in c:\\users\\paulm\\anaconda3\\envs\\notebook-6.5.7\\lib\\site-packages (from matplotlib<4->mlflow) (3.1.2)\n",
      "Requirement already satisfied: python-dateutil>=2.7 in c:\\users\\paulm\\anaconda3\\envs\\notebook-6.5.7\\lib\\site-packages (from matplotlib<4->mlflow) (2.9.0.post0)\n",
      "Requirement already satisfied: deprecated>=1.2.6 in c:\\users\\paulm\\anaconda3\\envs\\notebook-6.5.7\\lib\\site-packages (from opentelemetry-api<3,>=1.9.0->mlflow) (1.2.14)\n",
      "Requirement already satisfied: opentelemetry-semantic-conventions==0.46b0 in c:\\users\\paulm\\anaconda3\\envs\\notebook-6.5.7\\lib\\site-packages (from opentelemetry-sdk<3,>=1.9.0->mlflow) (0.46b0)\n",
      "Requirement already satisfied: tzdata>=2022.7 in c:\\users\\paulm\\anaconda3\\envs\\notebook-6.5.7\\lib\\site-packages (from pandas<3->mlflow) (2024.1)\n",
      "Requirement already satisfied: six in c:\\users\\paulm\\anaconda3\\envs\\notebook-6.5.7\\lib\\site-packages (from querystring-parser<2->mlflow) (1.16.0)\n",
      "Requirement already satisfied: charset-normalizer<4,>=2 in c:\\users\\paulm\\anaconda3\\envs\\notebook-6.5.7\\lib\\site-packages (from requests<3,>=2.17.3->mlflow) (3.3.2)\n",
      "Requirement already satisfied: idna<4,>=2.5 in c:\\users\\paulm\\anaconda3\\envs\\notebook-6.5.7\\lib\\site-packages (from requests<3,>=2.17.3->mlflow) (3.7)\n",
      "Requirement already satisfied: certifi>=2017.4.17 in c:\\users\\paulm\\anaconda3\\envs\\notebook-6.5.7\\lib\\site-packages (from requests<3,>=2.17.3->mlflow) (2024.6.2)\n",
      "Requirement already satisfied: joblib>=1.2.0 in c:\\users\\paulm\\anaconda3\\envs\\notebook-6.5.7\\lib\\site-packages (from scikit-learn<2->mlflow) (1.4.2)\n",
      "Requirement already satisfied: threadpoolctl>=3.1.0 in c:\\users\\paulm\\anaconda3\\envs\\notebook-6.5.7\\lib\\site-packages (from scikit-learn<2->mlflow) (3.5.0)\n",
      "Requirement already satisfied: greenlet!=0.4.17 in c:\\users\\paulm\\anaconda3\\envs\\notebook-6.5.7\\lib\\site-packages (from sqlalchemy<3,>=1.4.0->mlflow) (3.0.3)\n",
      "Requirement already satisfied: wrapt<2,>=1.10 in c:\\users\\paulm\\anaconda3\\envs\\notebook-6.5.7\\lib\\site-packages (from deprecated>=1.2.6->opentelemetry-api<3,>=1.9.0->mlflow) (1.16.0)\n",
      "Requirement already satisfied: smmap<6,>=3.0.1 in c:\\users\\paulm\\anaconda3\\envs\\notebook-6.5.7\\lib\\site-packages (from gitdb<5,>=4.0.1->gitpython<4,>=3.1.9->mlflow) (5.0.1)\n",
      "Note: you may need to restart the kernel to use updated packages.\n"
     ]
    }
   ],
   "source": [
    "pip install mlflow"
   ]
  },
  {
   "cell_type": "code",
   "execution_count": 20,
   "id": "1f5709a5",
   "metadata": {},
   "outputs": [],
   "source": [
    "import pandas as pd \n",
    "from sklearn.preprocessing import LabelEncoder\n",
    "import os\n",
    "import matplotlib.pyplot as plt\n",
    "import seaborn as sns\n",
    "import numpy as np\n",
    "import gc\n",
    "import mlflow\n",
    "import mlflow.sklearn\n",
    "from sklearn.impute import SimpleImputer\n",
    "from sklearn.model_selection import StratifiedKFold\n",
    "from sklearn.metrics import roc_auc_score\n",
    "from sklearn.preprocessing import StandardScaler\n",
    "from sklearn.model_selection import GridSearchCV\n",
    "from sklearn.model_selection import train_test_split\n",
    "from sklearn.metrics import classification_report, confusion_matrix, roc_curve\n",
    "from sklearn.ensemble import RandomForestClassifier, GradientBoostingClassifier\n",
    "from sklearn.linear_model import LogisticRegression\n",
    "from sklearn.neighbors import KNeighborsClassifier\n",
    "from sklearn.dummy import DummyClassifier\n",
    "import xgboost as xgb"
   ]
  },
  {
   "cell_type": "code",
   "execution_count": 7,
   "id": "f8890427",
   "metadata": {},
   "outputs": [],
   "source": [
    "mlflow.set_tracking_uri(\"http://127.0.0.1:5000\")"
   ]
  },
  {
   "cell_type": "markdown",
   "id": "aa9af6e9",
   "metadata": {},
   "source": [
    "#### Importation des fichiers : "
   ]
  },
  {
   "cell_type": "code",
   "execution_count": 3,
   "id": "d1c53b28",
   "metadata": {},
   "outputs": [
    {
     "name": "stdout",
     "output_type": "stream",
     "text": [
      "Fichiers dans le dossier data : ['application_test.csv', 'application_train.csv', 'bureau.csv', 'bureau_balance.csv', 'credit_card_balance.csv', 'HomeCredit_columns_description.csv', 'installments_payments.csv', 'POS_CASH_balance.csv', 'previous_application.csv', 'processed_data.csv', 'Projet+Mise+en+prod+-+home-credit-default-risk (1).zip', 'sample_submission.csv']\n",
      "   SK_ID_CURR NAME_CONTRACT_TYPE CODE_GENDER FLAG_OWN_CAR FLAG_OWN_REALTY  \\\n",
      "0      100001         Cash loans           F            N               Y   \n",
      "1      100005         Cash loans           M            N               Y   \n",
      "2      100013         Cash loans           M            Y               Y   \n",
      "3      100028         Cash loans           F            N               Y   \n",
      "4      100038         Cash loans           M            Y               N   \n",
      "\n",
      "   CNT_CHILDREN  AMT_INCOME_TOTAL  AMT_CREDIT  AMT_ANNUITY  AMT_GOODS_PRICE  \\\n",
      "0             0          135000.0    568800.0      20560.5         450000.0   \n",
      "1             0           99000.0    222768.0      17370.0         180000.0   \n",
      "2             0          202500.0    663264.0      69777.0         630000.0   \n",
      "3             2          315000.0   1575000.0      49018.5        1575000.0   \n",
      "4             1          180000.0    625500.0      32067.0         625500.0   \n",
      "\n",
      "   ... FLAG_DOCUMENT_18 FLAG_DOCUMENT_19 FLAG_DOCUMENT_20 FLAG_DOCUMENT_21  \\\n",
      "0  ...                0                0                0                0   \n",
      "1  ...                0                0                0                0   \n",
      "2  ...                0                0                0                0   \n",
      "3  ...                0                0                0                0   \n",
      "4  ...                0                0                0                0   \n",
      "\n",
      "  AMT_REQ_CREDIT_BUREAU_HOUR  AMT_REQ_CREDIT_BUREAU_DAY  \\\n",
      "0                        0.0                        0.0   \n",
      "1                        0.0                        0.0   \n",
      "2                        0.0                        0.0   \n",
      "3                        0.0                        0.0   \n",
      "4                        NaN                        NaN   \n",
      "\n",
      "   AMT_REQ_CREDIT_BUREAU_WEEK  AMT_REQ_CREDIT_BUREAU_MON  \\\n",
      "0                         0.0                        0.0   \n",
      "1                         0.0                        0.0   \n",
      "2                         0.0                        0.0   \n",
      "3                         0.0                        0.0   \n",
      "4                         NaN                        NaN   \n",
      "\n",
      "   AMT_REQ_CREDIT_BUREAU_QRT  AMT_REQ_CREDIT_BUREAU_YEAR  \n",
      "0                        0.0                         0.0  \n",
      "1                        0.0                         3.0  \n",
      "2                        1.0                         4.0  \n",
      "3                        0.0                         3.0  \n",
      "4                        NaN                         NaN  \n",
      "\n",
      "[5 rows x 121 columns]\n"
     ]
    }
   ],
   "source": [
    "# Chemin vers le dossier contenant les fichiers extraits\n",
    "dossier_data = \"C:/Users/paulm/Documents/GitHub/Projet7/data\"\n",
    "\n",
    "# Liste des fichiers dans le dossier data\n",
    "fichiers_data = os.listdir(dossier_data)\n",
    "print(f\"Fichiers dans le dossier data : {fichiers_data}\")\n",
    "\n",
    "chemin_fichier_train = os.path.join(dossier_data, 'application_test.csv')\n",
    "train_data = pd.read_csv(chemin_fichier_train)\n",
    "\n",
    "# Affichage des premières lignes du DataFrame pour vérifier que le fichier a été chargé correctement\n",
    "print(train_data.head())"
   ]
  },
  {
   "cell_type": "code",
   "execution_count": 8,
   "id": "f93a7a5d",
   "metadata": {},
   "outputs": [
    {
     "name": "stdout",
     "output_type": "stream",
     "text": [
      "   SK_ID_CURR  TARGET NAME_CONTRACT_TYPE CODE_GENDER FLAG_OWN_CAR  \\\n",
      "0      100002       1         Cash loans           M            N   \n",
      "1      100003       0         Cash loans           F            N   \n",
      "2      100004       0    Revolving loans           M            Y   \n",
      "3      100006       0         Cash loans           F            N   \n",
      "4      100007       0         Cash loans           M            N   \n",
      "\n",
      "  FLAG_OWN_REALTY  CNT_CHILDREN  AMT_INCOME_TOTAL  AMT_CREDIT  AMT_ANNUITY  \\\n",
      "0               Y             0          202500.0    406597.5      24700.5   \n",
      "1               N             0          270000.0   1293502.5      35698.5   \n",
      "2               Y             0           67500.0    135000.0       6750.0   \n",
      "3               Y             0          135000.0    312682.5      29686.5   \n",
      "4               Y             0          121500.0    513000.0      21865.5   \n",
      "\n",
      "   ...  CC_CNT_INSTALMENT_MATURE_CUM_MEAN CC_CNT_INSTALMENT_MATURE_CUM_SUM  \\\n",
      "0  ...                                NaN                              NaN   \n",
      "1  ...                                NaN                              NaN   \n",
      "2  ...                                NaN                              NaN   \n",
      "3  ...                                0.0                              0.0   \n",
      "4  ...                                NaN                              NaN   \n",
      "\n",
      "  CC_NAME_CONTRACT_STATUS_Active_MEAN CC_NAME_CONTRACT_STATUS_Approved_MEAN  \\\n",
      "0                                 NaN                                   NaN   \n",
      "1                                 NaN                                   NaN   \n",
      "2                                 NaN                                   NaN   \n",
      "3                                 1.0                                   0.0   \n",
      "4                                 NaN                                   NaN   \n",
      "\n",
      "  CC_NAME_CONTRACT_STATUS_Completed_MEAN CC_NAME_CONTRACT_STATUS_Demand_MEAN  \\\n",
      "0                                    NaN                                 NaN   \n",
      "1                                    NaN                                 NaN   \n",
      "2                                    NaN                                 NaN   \n",
      "3                                    0.0                                 0.0   \n",
      "4                                    NaN                                 NaN   \n",
      "\n",
      "   CC_NAME_CONTRACT_STATUS_Refused_MEAN  \\\n",
      "0                                   NaN   \n",
      "1                                   NaN   \n",
      "2                                   NaN   \n",
      "3                                   0.0   \n",
      "4                                   NaN   \n",
      "\n",
      "   CC_NAME_CONTRACT_STATUS_Sent proposal_MEAN  \\\n",
      "0                                         NaN   \n",
      "1                                         NaN   \n",
      "2                                         NaN   \n",
      "3                                         0.0   \n",
      "4                                         NaN   \n",
      "\n",
      "   CC_NAME_CONTRACT_STATUS_Signed_MEAN  CC_NAME_CONTRACT_STATUS_nan_MEAN  \n",
      "0                                  NaN                               NaN  \n",
      "1                                  NaN                               NaN  \n",
      "2                                  NaN                               NaN  \n",
      "3                                  0.0                               0.0  \n",
      "4                                  NaN                               NaN  \n",
      "\n",
      "[5 rows x 502 columns]\n"
     ]
    }
   ],
   "source": [
    "# Chemin vers le dossier où se trouve le fichier processed_data.csv\n",
    "chemin_dossier = \"C:/Users/paulm/Documents/GitHub/Projet7/data/\"\n",
    "\n",
    "# Charger les données\n",
    "df = pd.read_csv(os.path.join(chemin_dossier, 'processed_data.csv'))\n",
    "\n",
    "# Vérifier les données chargées\n",
    "print(df.head())"
   ]
  },
  {
   "cell_type": "markdown",
   "id": "7310b8a0",
   "metadata": {},
   "source": [
    "#### Initialisation de l'environnement MLFlow :"
   ]
  },
  {
   "cell_type": "markdown",
   "id": "644794d3",
   "metadata": {},
   "source": [
    "## Préparation des données et feature engineering :"
   ]
  },
  {
   "cell_type": "markdown",
   "id": "185ba8a9",
   "metadata": {},
   "source": [
    "### Charger les données prétraitées et entraîner le modèle"
   ]
  },
  {
   "cell_type": "code",
   "execution_count": 10,
   "id": "eeb33202",
   "metadata": {},
   "outputs": [
    {
     "name": "stdout",
     "output_type": "stream",
     "text": [
      "Fold 1 AUC: 0.757367759893559\n",
      "Fold 2 AUC: 0.7583632111017994\n",
      "Fold 3 AUC: 0.7614197377646141\n",
      "Fold 4 AUC: 0.7591545829918508\n",
      "Fold 5 AUC: 0.7554244196347567\n",
      "Full AUC score: 0.7583332894798088\n"
     ]
    }
   ],
   "source": [
    "# Function to load preprocessed data from disk\n",
    "def load_from_disk(file_name):\n",
    "    return pd.read_csv(file_name)\n",
    "\n",
    "# Handling infinity values\n",
    "df.replace([np.inf, -np.inf], np.nan, inplace=True)\n",
    "\n",
    "# Drop non-numeric columns\n",
    "non_numeric_cols = df.select_dtypes(exclude=[np.number]).columns\n",
    "df.drop(columns=non_numeric_cols, inplace=True)\n",
    " \n",
    "# Features and labels\n",
    "train_features = df.drop(columns=['TARGET'])\n",
    "train_labels = df['TARGET']\n",
    "\n",
    "# Handling missing values using SimpleImputer\n",
    "imputer = SimpleImputer(strategy='mean')\n",
    "train_features = imputer.fit_transform(train_features)\n",
    "\n",
    "# Normalization\n",
    "scaler = StandardScaler()\n",
    "train_features = scaler.fit_transform(train_features)\n",
    "\n",
    "# Model training and evaluation\n",
    "folds = StratifiedKFold(n_splits=5, shuffle=True, random_state=47)\n",
    "oof_preds = np.zeros(train_features.shape[0])\n",
    "\n",
    "# Start MLflow run\n",
    "with mlflow.start_run():\n",
    "    for n_fold, (train_idx, valid_idx) in enumerate(folds.split(train_features, train_labels)):\n",
    "        train_x, train_y = train_features[train_idx], train_labels[train_idx]\n",
    "        valid_x, valid_y = train_features[valid_idx], train_labels[valid_idx]\n",
    "\n",
    "        model = LogisticRegression(C=0.0001, class_weight='balanced', solver='lbfgs', max_iter=2000)\n",
    "        model.fit(train_x, train_y)\n",
    "        oof_preds[valid_idx] = model.predict_proba(valid_x)[:, 1]\n",
    "\n",
    "        fold_auc = roc_auc_score(valid_y, oof_preds[valid_idx])\n",
    "        print(f\"Fold {n_fold + 1} AUC: {fold_auc}\")\n",
    "\n",
    "        # Log fold AUC score to MLflow\n",
    "        mlflow.log_metric(f\"Fold {n_fold + 1} AUC\", fold_auc)\n",
    "\n",
    "    # Calculate overall AUC score\n",
    "    score = roc_auc_score(train_labels, oof_preds)\n",
    "    print(f\"Full AUC score: {score}\")\n",
    "\n",
    "    # Log parameters and metrics to MLflow\n",
    "    mlflow.log_param(\"C\", 0.0001)\n",
    "    mlflow.log_param(\"class_weight\", 'balanced')\n",
    "    mlflow.log_param(\"solver\", 'lbfgs')\n",
    "    mlflow.log_param(\"max_iter\", 2000)\n",
    "    mlflow.log_metric(\"Full AUC score\", score)\n",
    "\n",
    "    # Log the model to MLflow\n",
    "    mlflow.sklearn.log_model(model, \"model\")"
   ]
  },
  {
   "cell_type": "markdown",
   "id": "22c5943b",
   "metadata": {},
   "source": [
    "### Utilisation d'autres algorythmes de classification :"
   ]
  },
  {
   "cell_type": "markdown",
   "id": "37f1917c",
   "metadata": {},
   "source": [
    "#### Random forest"
   ]
  },
  {
   "cell_type": "markdown",
   "id": "37a04d0b",
   "metadata": {},
   "source": [
    "Avec mlflow"
   ]
  },
  {
   "cell_type": "code",
   "execution_count": 14,
   "id": "a34b6201",
   "metadata": {
    "scrolled": true
   },
   "outputs": [
    {
     "name": "stdout",
     "output_type": "stream",
     "text": [
      "Fold 1 AUC: 0.7428157775125228\n",
      "Fold 2 AUC: 0.7439050055911661\n",
      "Fold 3 AUC: 0.7513792400848425\n",
      "Fold 4 AUC: 0.7467853907967583\n",
      "Fold 5 AUC: 0.7455999449673726\n",
      "Full AUC score: 0.7460842093546884\n"
     ]
    },
    {
     "name": "stderr",
     "output_type": "stream",
     "text": [
      "c:\\Users\\paulm\\anaconda3\\envs\\notebook-6.5.7\\Lib\\site-packages\\_distutils_hack\\__init__.py:11: UserWarning: Distutils was imported before Setuptools, but importing Setuptools also replaces the `distutils` module in `sys.modules`. This may lead to undesirable behaviors or errors. To avoid these issues, avoid using distutils directly, ensure that setuptools is installed in the traditional way (e.g. not an editable install), and/or make sure that setuptools is always imported before distutils.\n",
      "  warnings.warn(\n",
      "c:\\Users\\paulm\\anaconda3\\envs\\notebook-6.5.7\\Lib\\site-packages\\_distutils_hack\\__init__.py:26: UserWarning: Setuptools is replacing distutils.\n",
      "  warnings.warn(\"Setuptools is replacing distutils.\")\n"
     ]
    }
   ],
   "source": [
    "# Parameters for Random Forest\n",
    "params = {\n",
    "    'n_estimators': 1000,\n",
    "    'max_depth': 10,\n",
    "    'min_samples_split': 5,\n",
    "    'min_samples_leaf': 2,\n",
    "    'max_features': 'sqrt',\n",
    "    'bootstrap': True,\n",
    "    'n_jobs': -1,\n",
    "    'random_state': 47\n",
    "}\n",
    "\n",
    "# Model training and evaluation\n",
    "folds = StratifiedKFold(n_splits=5, shuffle=True, random_state=47)\n",
    "oof_preds = np.zeros(train_features.shape[0])\n",
    "\n",
    "# Start MLflow run\n",
    "with mlflow.start_run():\n",
    "    for n_fold, (train_idx, valid_idx) in enumerate(folds.split(train_features, train_labels)):\n",
    "        train_x, train_y = train_features[train_idx], train_labels[train_idx]\n",
    "        valid_x, valid_y = train_features[valid_idx], train_labels[valid_idx]\n",
    "\n",
    "        clf = RandomForestClassifier(**params)\n",
    "        clf.fit(train_x, train_y)\n",
    "\n",
    "        oof_preds[valid_idx] = clf.predict_proba(valid_x)[:, 1]\n",
    "\n",
    "        fold_auc = roc_auc_score(valid_y, oof_preds[valid_idx])\n",
    "        print(f\"Fold {n_fold + 1} AUC: {fold_auc}\")\n",
    "\n",
    "        # Log fold AUC score to MLflow\n",
    "        mlflow.log_metric(f\"Fold {n_fold + 1} AUC\", fold_auc)\n",
    "\n",
    "    # Calculate overall AUC score\n",
    "    score = roc_auc_score(train_labels, oof_preds)\n",
    "    print(f\"Full AUC score: {score}\")\n",
    "\n",
    "    # Log parameters and metrics to MLflow\n",
    "    mlflow.log_params(params)\n",
    "    mlflow.log_metric(\"Full AUC score\", score)\n",
    "\n",
    "    # Log the model to MLflow\n",
    "    mlflow.sklearn.log_model(clf, \"model\")"
   ]
  },
  {
   "cell_type": "markdown",
   "id": "0737cfc5",
   "metadata": {},
   "source": [
    "### Création d'un score métier :"
   ]
  },
  {
   "cell_type": "markdown",
   "id": "32891fbc",
   "metadata": {},
   "source": [
    "Nous allons donc regarder la distribution pour comprendre un peu mieux :"
   ]
  },
  {
   "cell_type": "markdown",
   "id": "89982ea2",
   "metadata": {},
   "source": [
    "#### Visualisation des classes"
   ]
  },
  {
   "cell_type": "code",
   "execution_count": 15,
   "id": "d9d297f3",
   "metadata": {
    "scrolled": true
   },
   "outputs": [
    {
     "name": "stdout",
     "output_type": "stream",
     "text": [
      "Distribution des classes :\n",
      "TARGET\n",
      "0    282686\n",
      "1     24825\n",
      "Name: count, dtype: int64\n",
      "\n",
      "Pourcentage de chaque classe :\n",
      "Classe 0: 91.93%\n",
      "Classe 1: 8.07%\n"
     ]
    }
   ],
   "source": [
    "# Afficher les classes et leur distribution\n",
    "class_distribution = df['TARGET'].value_counts()\n",
    "print(\"Distribution des classes :\")\n",
    "print(class_distribution)\n",
    "\n",
    "# Afficher le pourcentage de chaque classe\n",
    "total_samples = df.shape[0]\n",
    "print(\"\\nPourcentage de chaque classe :\")\n",
    "for class_label, count in class_distribution.items():\n",
    "    percentage = (count / total_samples) * 100\n",
    "    print(f\"Classe {class_label}: {percentage:.2f}%\")"
   ]
  },
  {
   "cell_type": "markdown",
   "id": "98b69fab",
   "metadata": {},
   "source": [
    "On observe en effet un déséquilibre significatif entre les classes, avec environ 91.93% d'étiquettes \"0\" et seulement 8.07% d'étiquettes \"1\"."
   ]
  },
  {
   "cell_type": "markdown",
   "id": "e5f5f761",
   "metadata": {},
   "source": [
    "Le score métier n'est toujours pas satisfaisant nous allons tenter une nouvelle approche : "
   ]
  },
  {
   "cell_type": "markdown",
   "id": "dcb69a52",
   "metadata": {},
   "source": [
    "### Calcul du Score Métier\n",
    " \n",
    "Le score métier sera calculé en fonction des prédictions du modèle et des coûts définis. Nous devons ajuster le seuil de décision pour maximiser ce score. Pour cela, nous allons :\n",
    "\n",
    "Obtenir les probabilités prédites par le modèle.\n",
    "Ajuster le seuil de décision pour minimiser le coût total des erreurs en tenant compte des poids FP et FN."
   ]
  },
  {
   "cell_type": "code",
   "execution_count": 16,
   "id": "999cc2c1",
   "metadata": {},
   "outputs": [],
   "source": [
    "cost_fp = 1  # Coût d'un faux positif\n",
    "cost_fn = 10  # Coût d'un faux négatif (10 fois le coût d'un FP)"
   ]
  },
  {
   "cell_type": "code",
   "execution_count": 21,
   "id": "8564e36c",
   "metadata": {},
   "outputs": [
    {
     "name": "stdout",
     "output_type": "stream",
     "text": [
      "Meilleur seuil pour minimiser le coût métier : 0.11111111111111112\n",
      "Rapport de classification avec le meilleur seuil :\n",
      "              precision    recall  f1-score   support\n",
      "\n",
      "           0       0.95      0.73      0.83     56554\n",
      "           1       0.16      0.59      0.25      4949\n",
      "\n",
      "    accuracy                           0.72     61503\n",
      "   macro avg       0.56      0.66      0.54     61503\n",
      "weighted avg       0.89      0.72      0.78     61503\n",
      "\n",
      "Matrice de confusion avec le meilleur seuil :\n",
      "[[41162 15392]\n",
      " [ 2029  2920]]\n"
     ]
    }
   ],
   "source": [
    "# Suppression des colonnes non numériques\n",
    "non_numeric_cols = df.select_dtypes(exclude=[np.number]).columns\n",
    "df.drop(columns=non_numeric_cols, inplace=True)\n",
    "\n",
    "# Séparation des caractéristiques et des étiquettes\n",
    "X = df.drop(columns=['TARGET'])\n",
    "y = df['TARGET']\n",
    "\n",
    "# Gestion des valeurs manquantes\n",
    "imputer = SimpleImputer(strategy='mean')\n",
    "X = imputer.fit_transform(X)\n",
    "\n",
    "# Normalisation\n",
    "scaler = StandardScaler()\n",
    "X = scaler.fit_transform(X)\n",
    "\n",
    "# Séparation des données en ensembles d'entraînement et de test\n",
    "X_train, X_test, y_train, y_test = train_test_split(X, y, test_size=0.2, random_state=42)\n",
    "\n",
    "# Initialisation du modèle\n",
    "model = RandomForestClassifier(random_state=42)\n",
    "\n",
    "# Entraînement du modèle\n",
    "model.fit(X_train, y_train)\n",
    "\n",
    "# Obtenir les probabilités prédites par le modèle pour la classe 1\n",
    "y_prob = model.predict_proba(X_test)[:, 1]\n",
    "\n",
    "# Calculer les coûts pour chaque seuil de décision\n",
    "thresholds = np.linspace(0, 1, 100)\n",
    "costs = []\n",
    "for threshold in thresholds:\n",
    "    y_pred_thresholded = (y_prob > threshold).astype(int)\n",
    "    fp = np.sum((y_pred_thresholded == 1) & (y_test == 0)) * cost_fp\n",
    "    fn = np.sum((y_pred_thresholded == 0) & (y_test == 1)) * cost_fn\n",
    "    total_cost = fp + fn\n",
    "    costs.append(total_cost)\n",
    "\n",
    "# Trouver le seuil qui minimise le coût total des erreurs\n",
    "best_threshold = thresholds[np.argmin(costs)]\n",
    "print(f\"Meilleur seuil pour minimiser le coût métier : {best_threshold}\")\n",
    "\n",
    "# Utiliser le meilleur seuil pour prédire les classes\n",
    "y_pred_best_threshold = (y_prob > best_threshold).astype(int)\n",
    "\n",
    "# Afficher le rapport de classification avec le meilleur seuil\n",
    "print(\"Rapport de classification avec le meilleur seuil :\")\n",
    "print(classification_report(y_test, y_pred_best_threshold))\n",
    "\n",
    "# Afficher la matrice de confusion avec le meilleur seuil\n",
    "print(\"Matrice de confusion avec le meilleur seuil :\")\n",
    "print(confusion_matrix(y_test, y_pred_best_threshold))"
   ]
  },
  {
   "cell_type": "markdown",
   "id": "f192dcde",
   "metadata": {},
   "source": [
    " **Classe 0 (Majoritaire)** :\n",
    "  - Précision : 0.96 (Très bonne)\n",
    "  - Rappel : 0.73 (Modéré)\n",
    "  - F1-Score : 0.83 (Bon)\n",
    "  \n",
    " **Classe 1 (Minoritaire)** :\n",
    "  - Précision : 0.17 (Très faible)\n",
    "  - Rappel : 0.62 (Modéré)\n",
    "  - F1-Score : 0.26 (Faible)\n",
    "- **Exactitude globale** : 0.72 (Modéré)\n",
    "\n",
    "\n",
    "True Negatives (TN) : 41320\n",
    "False Positives (FP) : 15234\n",
    "False Negatives (FN) : 1876\n",
    "True Positives (TP) : 3073"
   ]
  },
  {
   "cell_type": "code",
   "execution_count": 22,
   "id": "75be6510",
   "metadata": {},
   "outputs": [
    {
     "name": "stdout",
     "output_type": "stream",
     "text": [
      "Entraînement du modèle Dummy Classifier...\n",
      "Meilleur seuil pour minimiser le coût métier avec Dummy Classifier: 0.0\n",
      "Rapport de classification avec le meilleur seuil pour Dummy Classifier:\n",
      "              precision    recall  f1-score   support\n",
      "\n",
      "           0       0.92      1.00      0.96      5664\n",
      "           1       0.00      0.00      0.00       486\n",
      "\n",
      "    accuracy                           0.92      6150\n",
      "   macro avg       0.46      0.50      0.48      6150\n",
      "weighted avg       0.85      0.92      0.88      6150\n",
      "\n",
      "Matrice de confusion avec le meilleur seuil pour Dummy Classifier:\n",
      "[[5664    0]\n",
      " [ 486    0]]\n",
      "\n"
     ]
    },
    {
     "name": "stderr",
     "output_type": "stream",
     "text": [
      "c:\\Users\\paulm\\anaconda3\\envs\\notebook-6.5.7\\Lib\\site-packages\\sklearn\\metrics\\_classification.py:1517: UndefinedMetricWarning: Precision is ill-defined and being set to 0.0 in labels with no predicted samples. Use `zero_division` parameter to control this behavior.\n",
      "  _warn_prf(average, modifier, f\"{metric.capitalize()} is\", len(result))\n",
      "c:\\Users\\paulm\\anaconda3\\envs\\notebook-6.5.7\\Lib\\site-packages\\sklearn\\metrics\\_classification.py:1517: UndefinedMetricWarning: Precision is ill-defined and being set to 0.0 in labels with no predicted samples. Use `zero_division` parameter to control this behavior.\n",
      "  _warn_prf(average, modifier, f\"{metric.capitalize()} is\", len(result))\n",
      "c:\\Users\\paulm\\anaconda3\\envs\\notebook-6.5.7\\Lib\\site-packages\\sklearn\\metrics\\_classification.py:1517: UndefinedMetricWarning: Precision is ill-defined and being set to 0.0 in labels with no predicted samples. Use `zero_division` parameter to control this behavior.\n",
      "  _warn_prf(average, modifier, f\"{metric.capitalize()} is\", len(result))\n",
      "c:\\Users\\paulm\\anaconda3\\envs\\notebook-6.5.7\\Lib\\site-packages\\_distutils_hack\\__init__.py:11: UserWarning: Distutils was imported before Setuptools, but importing Setuptools also replaces the `distutils` module in `sys.modules`. This may lead to undesirable behaviors or errors. To avoid these issues, avoid using distutils directly, ensure that setuptools is installed in the traditional way (e.g. not an editable install), and/or make sure that setuptools is always imported before distutils.\n",
      "  warnings.warn(\n",
      "c:\\Users\\paulm\\anaconda3\\envs\\notebook-6.5.7\\Lib\\site-packages\\_distutils_hack\\__init__.py:26: UserWarning: Setuptools is replacing distutils.\n",
      "  warnings.warn(\"Setuptools is replacing distutils.\")\n"
     ]
    },
    {
     "name": "stdout",
     "output_type": "stream",
     "text": [
      "Entraînement du modèle Random Forest...\n",
      "Meilleurs paramètres pour Random Forest: {'n_estimators': 50}\n",
      "Score F1 moyen sur le jeu de validation: 0.001\n",
      "Meilleur seuil pour minimiser le coût métier avec Random Forest: 0.08080808080808081\n",
      "Rapport de classification avec le meilleur seuil pour Random Forest:\n",
      "              precision    recall  f1-score   support\n",
      "\n",
      "           0       0.95      0.70      0.80      5664\n",
      "           1       0.14      0.56      0.22       486\n",
      "\n",
      "    accuracy                           0.69      6150\n",
      "   macro avg       0.54      0.63      0.51      6150\n",
      "weighted avg       0.88      0.69      0.76      6150\n",
      "\n",
      "Matrice de confusion avec le meilleur seuil pour Random Forest:\n",
      "[[3950 1714]\n",
      " [ 212  274]]\n",
      "\n"
     ]
    },
    {
     "name": "stderr",
     "output_type": "stream",
     "text": [
      "c:\\Users\\paulm\\anaconda3\\envs\\notebook-6.5.7\\Lib\\site-packages\\_distutils_hack\\__init__.py:11: UserWarning: Distutils was imported before Setuptools, but importing Setuptools also replaces the `distutils` module in `sys.modules`. This may lead to undesirable behaviors or errors. To avoid these issues, avoid using distutils directly, ensure that setuptools is installed in the traditional way (e.g. not an editable install), and/or make sure that setuptools is always imported before distutils.\n",
      "  warnings.warn(\n",
      "c:\\Users\\paulm\\anaconda3\\envs\\notebook-6.5.7\\Lib\\site-packages\\_distutils_hack\\__init__.py:26: UserWarning: Setuptools is replacing distutils.\n",
      "  warnings.warn(\"Setuptools is replacing distutils.\")\n"
     ]
    },
    {
     "name": "stdout",
     "output_type": "stream",
     "text": [
      "Entraînement du modèle Logistic Regression...\n"
     ]
    },
    {
     "name": "stderr",
     "output_type": "stream",
     "text": [
      "c:\\Users\\paulm\\anaconda3\\envs\\notebook-6.5.7\\Lib\\site-packages\\sklearn\\linear_model\\_logistic.py:469: ConvergenceWarning: lbfgs failed to converge (status=1):\n",
      "STOP: TOTAL NO. of ITERATIONS REACHED LIMIT.\n",
      "\n",
      "Increase the number of iterations (max_iter) or scale the data as shown in:\n",
      "    https://scikit-learn.org/stable/modules/preprocessing.html\n",
      "Please also refer to the documentation for alternative solver options:\n",
      "    https://scikit-learn.org/stable/modules/linear_model.html#logistic-regression\n",
      "  n_iter_i = _check_optimize_result(\n",
      "c:\\Users\\paulm\\anaconda3\\envs\\notebook-6.5.7\\Lib\\site-packages\\sklearn\\linear_model\\_logistic.py:469: ConvergenceWarning: lbfgs failed to converge (status=1):\n",
      "STOP: TOTAL NO. of ITERATIONS REACHED LIMIT.\n",
      "\n",
      "Increase the number of iterations (max_iter) or scale the data as shown in:\n",
      "    https://scikit-learn.org/stable/modules/preprocessing.html\n",
      "Please also refer to the documentation for alternative solver options:\n",
      "    https://scikit-learn.org/stable/modules/linear_model.html#logistic-regression\n",
      "  n_iter_i = _check_optimize_result(\n",
      "c:\\Users\\paulm\\anaconda3\\envs\\notebook-6.5.7\\Lib\\site-packages\\sklearn\\linear_model\\_logistic.py:469: ConvergenceWarning: lbfgs failed to converge (status=1):\n",
      "STOP: TOTAL NO. of ITERATIONS REACHED LIMIT.\n",
      "\n",
      "Increase the number of iterations (max_iter) or scale the data as shown in:\n",
      "    https://scikit-learn.org/stable/modules/preprocessing.html\n",
      "Please also refer to the documentation for alternative solver options:\n",
      "    https://scikit-learn.org/stable/modules/linear_model.html#logistic-regression\n",
      "  n_iter_i = _check_optimize_result(\n",
      "c:\\Users\\paulm\\anaconda3\\envs\\notebook-6.5.7\\Lib\\site-packages\\sklearn\\linear_model\\_logistic.py:469: ConvergenceWarning: lbfgs failed to converge (status=1):\n",
      "STOP: TOTAL NO. of ITERATIONS REACHED LIMIT.\n",
      "\n",
      "Increase the number of iterations (max_iter) or scale the data as shown in:\n",
      "    https://scikit-learn.org/stable/modules/preprocessing.html\n",
      "Please also refer to the documentation for alternative solver options:\n",
      "    https://scikit-learn.org/stable/modules/linear_model.html#logistic-regression\n",
      "  n_iter_i = _check_optimize_result(\n",
      "c:\\Users\\paulm\\anaconda3\\envs\\notebook-6.5.7\\Lib\\site-packages\\sklearn\\linear_model\\_logistic.py:469: ConvergenceWarning: lbfgs failed to converge (status=1):\n",
      "STOP: TOTAL NO. of ITERATIONS REACHED LIMIT.\n",
      "\n",
      "Increase the number of iterations (max_iter) or scale the data as shown in:\n",
      "    https://scikit-learn.org/stable/modules/preprocessing.html\n",
      "Please also refer to the documentation for alternative solver options:\n",
      "    https://scikit-learn.org/stable/modules/linear_model.html#logistic-regression\n",
      "  n_iter_i = _check_optimize_result(\n",
      "c:\\Users\\paulm\\anaconda3\\envs\\notebook-6.5.7\\Lib\\site-packages\\sklearn\\linear_model\\_logistic.py:469: ConvergenceWarning: lbfgs failed to converge (status=1):\n",
      "STOP: TOTAL NO. of ITERATIONS REACHED LIMIT.\n",
      "\n",
      "Increase the number of iterations (max_iter) or scale the data as shown in:\n",
      "    https://scikit-learn.org/stable/modules/preprocessing.html\n",
      "Please also refer to the documentation for alternative solver options:\n",
      "    https://scikit-learn.org/stable/modules/linear_model.html#logistic-regression\n",
      "  n_iter_i = _check_optimize_result(\n",
      "c:\\Users\\paulm\\anaconda3\\envs\\notebook-6.5.7\\Lib\\site-packages\\sklearn\\linear_model\\_logistic.py:469: ConvergenceWarning: lbfgs failed to converge (status=1):\n",
      "STOP: TOTAL NO. of ITERATIONS REACHED LIMIT.\n",
      "\n",
      "Increase the number of iterations (max_iter) or scale the data as shown in:\n",
      "    https://scikit-learn.org/stable/modules/preprocessing.html\n",
      "Please also refer to the documentation for alternative solver options:\n",
      "    https://scikit-learn.org/stable/modules/linear_model.html#logistic-regression\n",
      "  n_iter_i = _check_optimize_result(\n"
     ]
    },
    {
     "name": "stdout",
     "output_type": "stream",
     "text": [
      "Meilleurs paramètres pour Logistic Regression: {'C': 10.0}\n",
      "Score F1 moyen sur le jeu de validation: 0.258\n",
      "Meilleur seuil pour minimiser le coût métier avec Logistic Regression: 0.4545454545454546\n",
      "Rapport de classification avec le meilleur seuil pour Logistic Regression:\n",
      "              precision    recall  f1-score   support\n",
      "\n",
      "           0       0.96      0.67      0.79      5664\n",
      "           1       0.16      0.71      0.26       486\n",
      "\n",
      "    accuracy                           0.67      6150\n",
      "   macro avg       0.56      0.69      0.52      6150\n",
      "weighted avg       0.90      0.67      0.75      6150\n",
      "\n",
      "Matrice de confusion avec le meilleur seuil pour Logistic Regression:\n",
      "[[3793 1871]\n",
      " [ 141  345]]\n",
      "\n"
     ]
    },
    {
     "name": "stderr",
     "output_type": "stream",
     "text": [
      "c:\\Users\\paulm\\anaconda3\\envs\\notebook-6.5.7\\Lib\\site-packages\\_distutils_hack\\__init__.py:11: UserWarning: Distutils was imported before Setuptools, but importing Setuptools also replaces the `distutils` module in `sys.modules`. This may lead to undesirable behaviors or errors. To avoid these issues, avoid using distutils directly, ensure that setuptools is installed in the traditional way (e.g. not an editable install), and/or make sure that setuptools is always imported before distutils.\n",
      "  warnings.warn(\n",
      "c:\\Users\\paulm\\anaconda3\\envs\\notebook-6.5.7\\Lib\\site-packages\\_distutils_hack\\__init__.py:26: UserWarning: Setuptools is replacing distutils.\n",
      "  warnings.warn(\"Setuptools is replacing distutils.\")\n"
     ]
    },
    {
     "name": "stdout",
     "output_type": "stream",
     "text": [
      "Entraînement du modèle K-Nearest Neighbors...\n"
     ]
    },
    {
     "name": "stderr",
     "output_type": "stream",
     "text": [
      "c:\\Users\\paulm\\anaconda3\\envs\\notebook-6.5.7\\Lib\\site-packages\\joblib\\externals\\loky\\backend\\context.py:136: UserWarning: Could not find the number of physical cores for the following reason:\n",
      "found 0 physical cores < 1\n",
      "Returning the number of logical cores instead. You can silence this warning by setting LOKY_MAX_CPU_COUNT to the number of cores you want to use.\n",
      "  warnings.warn(\n",
      "  File \"c:\\Users\\paulm\\anaconda3\\envs\\notebook-6.5.7\\Lib\\site-packages\\joblib\\externals\\loky\\backend\\context.py\", line 282, in _count_physical_cores\n",
      "    raise ValueError(f\"found {cpu_count_physical} physical cores < 1\")\n"
     ]
    },
    {
     "name": "stdout",
     "output_type": "stream",
     "text": [
      "Meilleurs paramètres pour K-Nearest Neighbors: {'n_neighbors': 5}\n",
      "Score F1 moyen sur le jeu de validation: 0.026\n",
      "Meilleur seuil pour minimiser le coût métier avec K-Nearest Neighbors: 0.0\n",
      "Rapport de classification avec le meilleur seuil pour K-Nearest Neighbors:\n",
      "              precision    recall  f1-score   support\n",
      "\n",
      "           0       0.93      0.70      0.80      5664\n",
      "           1       0.10      0.41      0.17       486\n",
      "\n",
      "    accuracy                           0.67      6150\n",
      "   macro avg       0.52      0.55      0.48      6150\n",
      "weighted avg       0.87      0.67      0.75      6150\n",
      "\n",
      "Matrice de confusion avec le meilleur seuil pour K-Nearest Neighbors:\n",
      "[[3937 1727]\n",
      " [ 287  199]]\n",
      "\n"
     ]
    },
    {
     "name": "stderr",
     "output_type": "stream",
     "text": [
      "c:\\Users\\paulm\\anaconda3\\envs\\notebook-6.5.7\\Lib\\site-packages\\_distutils_hack\\__init__.py:11: UserWarning: Distutils was imported before Setuptools, but importing Setuptools also replaces the `distutils` module in `sys.modules`. This may lead to undesirable behaviors or errors. To avoid these issues, avoid using distutils directly, ensure that setuptools is installed in the traditional way (e.g. not an editable install), and/or make sure that setuptools is always imported before distutils.\n",
      "  warnings.warn(\n",
      "c:\\Users\\paulm\\anaconda3\\envs\\notebook-6.5.7\\Lib\\site-packages\\_distutils_hack\\__init__.py:26: UserWarning: Setuptools is replacing distutils.\n",
      "  warnings.warn(\"Setuptools is replacing distutils.\")\n"
     ]
    },
    {
     "name": "stdout",
     "output_type": "stream",
     "text": [
      "Entraînement du modèle XGBoost...\n"
     ]
    },
    {
     "name": "stderr",
     "output_type": "stream",
     "text": [
      "c:\\Users\\paulm\\anaconda3\\envs\\notebook-6.5.7\\Lib\\site-packages\\xgboost\\core.py:158: UserWarning: [16:29:24] WARNING: C:\\buildkite-agent\\builds\\buildkite-windows-cpu-autoscaling-group-i-06abd128ca6c1688d-1\\xgboost\\xgboost-ci-windows\\src\\learner.cc:740: \n",
      "Parameters: { \"use_label_encoder\" } are not used.\n",
      "\n",
      "  warnings.warn(smsg, UserWarning)\n",
      "c:\\Users\\paulm\\anaconda3\\envs\\notebook-6.5.7\\Lib\\site-packages\\xgboost\\core.py:158: UserWarning: [16:29:25] WARNING: C:\\buildkite-agent\\builds\\buildkite-windows-cpu-autoscaling-group-i-06abd128ca6c1688d-1\\xgboost\\xgboost-ci-windows\\src\\learner.cc:740: \n",
      "Parameters: { \"use_label_encoder\" } are not used.\n",
      "\n",
      "  warnings.warn(smsg, UserWarning)\n",
      "c:\\Users\\paulm\\anaconda3\\envs\\notebook-6.5.7\\Lib\\site-packages\\xgboost\\core.py:158: UserWarning: [16:29:26] WARNING: C:\\buildkite-agent\\builds\\buildkite-windows-cpu-autoscaling-group-i-06abd128ca6c1688d-1\\xgboost\\xgboost-ci-windows\\src\\learner.cc:740: \n",
      "Parameters: { \"use_label_encoder\" } are not used.\n",
      "\n",
      "  warnings.warn(smsg, UserWarning)\n",
      "c:\\Users\\paulm\\anaconda3\\envs\\notebook-6.5.7\\Lib\\site-packages\\xgboost\\core.py:158: UserWarning: [16:29:26] WARNING: C:\\buildkite-agent\\builds\\buildkite-windows-cpu-autoscaling-group-i-06abd128ca6c1688d-1\\xgboost\\xgboost-ci-windows\\src\\learner.cc:740: \n",
      "Parameters: { \"use_label_encoder\" } are not used.\n",
      "\n",
      "  warnings.warn(smsg, UserWarning)\n",
      "c:\\Users\\paulm\\anaconda3\\envs\\notebook-6.5.7\\Lib\\site-packages\\xgboost\\core.py:158: UserWarning: [16:29:28] WARNING: C:\\buildkite-agent\\builds\\buildkite-windows-cpu-autoscaling-group-i-06abd128ca6c1688d-1\\xgboost\\xgboost-ci-windows\\src\\learner.cc:740: \n",
      "Parameters: { \"use_label_encoder\" } are not used.\n",
      "\n",
      "  warnings.warn(smsg, UserWarning)\n",
      "c:\\Users\\paulm\\anaconda3\\envs\\notebook-6.5.7\\Lib\\site-packages\\xgboost\\core.py:158: UserWarning: [16:29:29] WARNING: C:\\buildkite-agent\\builds\\buildkite-windows-cpu-autoscaling-group-i-06abd128ca6c1688d-1\\xgboost\\xgboost-ci-windows\\src\\learner.cc:740: \n",
      "Parameters: { \"use_label_encoder\" } are not used.\n",
      "\n",
      "  warnings.warn(smsg, UserWarning)\n",
      "c:\\Users\\paulm\\anaconda3\\envs\\notebook-6.5.7\\Lib\\site-packages\\xgboost\\core.py:158: UserWarning: [16:29:30] WARNING: C:\\buildkite-agent\\builds\\buildkite-windows-cpu-autoscaling-group-i-06abd128ca6c1688d-1\\xgboost\\xgboost-ci-windows\\src\\learner.cc:740: \n",
      "Parameters: { \"use_label_encoder\" } are not used.\n",
      "\n",
      "  warnings.warn(smsg, UserWarning)\n",
      "c:\\Users\\paulm\\anaconda3\\envs\\notebook-6.5.7\\Lib\\site-packages\\xgboost\\core.py:158: UserWarning: [16:29:31] WARNING: C:\\buildkite-agent\\builds\\buildkite-windows-cpu-autoscaling-group-i-06abd128ca6c1688d-1\\xgboost\\xgboost-ci-windows\\src\\learner.cc:740: \n",
      "Parameters: { \"use_label_encoder\" } are not used.\n",
      "\n",
      "  warnings.warn(smsg, UserWarning)\n",
      "c:\\Users\\paulm\\anaconda3\\envs\\notebook-6.5.7\\Lib\\site-packages\\xgboost\\core.py:158: UserWarning: [16:29:33] WARNING: C:\\buildkite-agent\\builds\\buildkite-windows-cpu-autoscaling-group-i-06abd128ca6c1688d-1\\xgboost\\xgboost-ci-windows\\src\\learner.cc:740: \n",
      "Parameters: { \"use_label_encoder\" } are not used.\n",
      "\n",
      "  warnings.warn(smsg, UserWarning)\n",
      "c:\\Users\\paulm\\anaconda3\\envs\\notebook-6.5.7\\Lib\\site-packages\\xgboost\\core.py:158: UserWarning: [16:29:34] WARNING: C:\\buildkite-agent\\builds\\buildkite-windows-cpu-autoscaling-group-i-06abd128ca6c1688d-1\\xgboost\\xgboost-ci-windows\\src\\learner.cc:740: \n",
      "Parameters: { \"use_label_encoder\" } are not used.\n",
      "\n",
      "  warnings.warn(smsg, UserWarning)\n",
      "c:\\Users\\paulm\\anaconda3\\envs\\notebook-6.5.7\\Lib\\site-packages\\xgboost\\core.py:158: UserWarning: [16:29:36] WARNING: C:\\buildkite-agent\\builds\\buildkite-windows-cpu-autoscaling-group-i-06abd128ca6c1688d-1\\xgboost\\xgboost-ci-windows\\src\\learner.cc:740: \n",
      "Parameters: { \"use_label_encoder\" } are not used.\n",
      "\n",
      "  warnings.warn(smsg, UserWarning)\n",
      "c:\\Users\\paulm\\anaconda3\\envs\\notebook-6.5.7\\Lib\\site-packages\\xgboost\\core.py:158: UserWarning: [16:29:38] WARNING: C:\\buildkite-agent\\builds\\buildkite-windows-cpu-autoscaling-group-i-06abd128ca6c1688d-1\\xgboost\\xgboost-ci-windows\\src\\learner.cc:740: \n",
      "Parameters: { \"use_label_encoder\" } are not used.\n",
      "\n",
      "  warnings.warn(smsg, UserWarning)\n",
      "c:\\Users\\paulm\\anaconda3\\envs\\notebook-6.5.7\\Lib\\site-packages\\xgboost\\core.py:158: UserWarning: [16:29:41] WARNING: C:\\buildkite-agent\\builds\\buildkite-windows-cpu-autoscaling-group-i-06abd128ca6c1688d-1\\xgboost\\xgboost-ci-windows\\src\\learner.cc:740: \n",
      "Parameters: { \"use_label_encoder\" } are not used.\n",
      "\n",
      "  warnings.warn(smsg, UserWarning)\n",
      "c:\\Users\\paulm\\anaconda3\\envs\\notebook-6.5.7\\Lib\\site-packages\\xgboost\\core.py:158: UserWarning: [16:29:42] WARNING: C:\\buildkite-agent\\builds\\buildkite-windows-cpu-autoscaling-group-i-06abd128ca6c1688d-1\\xgboost\\xgboost-ci-windows\\src\\learner.cc:740: \n",
      "Parameters: { \"use_label_encoder\" } are not used.\n",
      "\n",
      "  warnings.warn(smsg, UserWarning)\n",
      "c:\\Users\\paulm\\anaconda3\\envs\\notebook-6.5.7\\Lib\\site-packages\\xgboost\\core.py:158: UserWarning: [16:29:43] WARNING: C:\\buildkite-agent\\builds\\buildkite-windows-cpu-autoscaling-group-i-06abd128ca6c1688d-1\\xgboost\\xgboost-ci-windows\\src\\learner.cc:740: \n",
      "Parameters: { \"use_label_encoder\" } are not used.\n",
      "\n",
      "  warnings.warn(smsg, UserWarning)\n",
      "c:\\Users\\paulm\\anaconda3\\envs\\notebook-6.5.7\\Lib\\site-packages\\xgboost\\core.py:158: UserWarning: [16:29:44] WARNING: C:\\buildkite-agent\\builds\\buildkite-windows-cpu-autoscaling-group-i-06abd128ca6c1688d-1\\xgboost\\xgboost-ci-windows\\src\\learner.cc:740: \n",
      "Parameters: { \"use_label_encoder\" } are not used.\n",
      "\n",
      "  warnings.warn(smsg, UserWarning)\n",
      "c:\\Users\\paulm\\anaconda3\\envs\\notebook-6.5.7\\Lib\\site-packages\\xgboost\\core.py:158: UserWarning: [16:29:47] WARNING: C:\\buildkite-agent\\builds\\buildkite-windows-cpu-autoscaling-group-i-06abd128ca6c1688d-1\\xgboost\\xgboost-ci-windows\\src\\learner.cc:740: \n",
      "Parameters: { \"use_label_encoder\" } are not used.\n",
      "\n",
      "  warnings.warn(smsg, UserWarning)\n",
      "c:\\Users\\paulm\\anaconda3\\envs\\notebook-6.5.7\\Lib\\site-packages\\xgboost\\core.py:158: UserWarning: [16:29:48] WARNING: C:\\buildkite-agent\\builds\\buildkite-windows-cpu-autoscaling-group-i-06abd128ca6c1688d-1\\xgboost\\xgboost-ci-windows\\src\\learner.cc:740: \n",
      "Parameters: { \"use_label_encoder\" } are not used.\n",
      "\n",
      "  warnings.warn(smsg, UserWarning)\n",
      "c:\\Users\\paulm\\anaconda3\\envs\\notebook-6.5.7\\Lib\\site-packages\\xgboost\\core.py:158: UserWarning: [16:29:50] WARNING: C:\\buildkite-agent\\builds\\buildkite-windows-cpu-autoscaling-group-i-06abd128ca6c1688d-1\\xgboost\\xgboost-ci-windows\\src\\learner.cc:740: \n",
      "Parameters: { \"use_label_encoder\" } are not used.\n",
      "\n",
      "  warnings.warn(smsg, UserWarning)\n",
      "c:\\Users\\paulm\\anaconda3\\envs\\notebook-6.5.7\\Lib\\site-packages\\xgboost\\core.py:158: UserWarning: [16:29:51] WARNING: C:\\buildkite-agent\\builds\\buildkite-windows-cpu-autoscaling-group-i-06abd128ca6c1688d-1\\xgboost\\xgboost-ci-windows\\src\\learner.cc:740: \n",
      "Parameters: { \"use_label_encoder\" } are not used.\n",
      "\n",
      "  warnings.warn(smsg, UserWarning)\n",
      "c:\\Users\\paulm\\anaconda3\\envs\\notebook-6.5.7\\Lib\\site-packages\\xgboost\\core.py:158: UserWarning: [16:29:52] WARNING: C:\\buildkite-agent\\builds\\buildkite-windows-cpu-autoscaling-group-i-06abd128ca6c1688d-1\\xgboost\\xgboost-ci-windows\\src\\learner.cc:740: \n",
      "Parameters: { \"use_label_encoder\" } are not used.\n",
      "\n",
      "  warnings.warn(smsg, UserWarning)\n",
      "c:\\Users\\paulm\\anaconda3\\envs\\notebook-6.5.7\\Lib\\site-packages\\xgboost\\core.py:158: UserWarning: [16:29:53] WARNING: C:\\buildkite-agent\\builds\\buildkite-windows-cpu-autoscaling-group-i-06abd128ca6c1688d-1\\xgboost\\xgboost-ci-windows\\src\\learner.cc:740: \n",
      "Parameters: { \"use_label_encoder\" } are not used.\n",
      "\n",
      "  warnings.warn(smsg, UserWarning)\n",
      "c:\\Users\\paulm\\anaconda3\\envs\\notebook-6.5.7\\Lib\\site-packages\\xgboost\\core.py:158: UserWarning: [16:29:55] WARNING: C:\\buildkite-agent\\builds\\buildkite-windows-cpu-autoscaling-group-i-06abd128ca6c1688d-1\\xgboost\\xgboost-ci-windows\\src\\learner.cc:740: \n",
      "Parameters: { \"use_label_encoder\" } are not used.\n",
      "\n",
      "  warnings.warn(smsg, UserWarning)\n",
      "c:\\Users\\paulm\\anaconda3\\envs\\notebook-6.5.7\\Lib\\site-packages\\xgboost\\core.py:158: UserWarning: [16:29:57] WARNING: C:\\buildkite-agent\\builds\\buildkite-windows-cpu-autoscaling-group-i-06abd128ca6c1688d-1\\xgboost\\xgboost-ci-windows\\src\\learner.cc:740: \n",
      "Parameters: { \"use_label_encoder\" } are not used.\n",
      "\n",
      "  warnings.warn(smsg, UserWarning)\n",
      "c:\\Users\\paulm\\anaconda3\\envs\\notebook-6.5.7\\Lib\\site-packages\\xgboost\\core.py:158: UserWarning: [16:30:00] WARNING: C:\\buildkite-agent\\builds\\buildkite-windows-cpu-autoscaling-group-i-06abd128ca6c1688d-1\\xgboost\\xgboost-ci-windows\\src\\learner.cc:740: \n",
      "Parameters: { \"use_label_encoder\" } are not used.\n",
      "\n",
      "  warnings.warn(smsg, UserWarning)\n"
     ]
    },
    {
     "name": "stdout",
     "output_type": "stream",
     "text": [
      "Meilleurs paramètres pour XGBoost: {'learning_rate': 0.1, 'max_depth': 5, 'n_estimators': 100}\n",
      "Score F1 moyen sur le jeu de validation: 0.055\n",
      "Meilleur seuil pour minimiser le coût métier avec XGBoost: 0.08080808080808081\n",
      "Rapport de classification avec le meilleur seuil pour XGBoost:\n",
      "              precision    recall  f1-score   support\n",
      "\n",
      "           0       0.96      0.74      0.83      5664\n",
      "           1       0.17      0.62      0.26       486\n",
      "\n",
      "    accuracy                           0.73      6150\n",
      "   macro avg       0.56      0.68      0.55      6150\n",
      "weighted avg       0.89      0.73      0.79      6150\n",
      "\n",
      "Matrice de confusion avec le meilleur seuil pour XGBoost:\n",
      "[[4185 1479]\n",
      " [ 187  299]]\n",
      "\n"
     ]
    },
    {
     "name": "stderr",
     "output_type": "stream",
     "text": [
      "c:\\Users\\paulm\\anaconda3\\envs\\notebook-6.5.7\\Lib\\site-packages\\_distutils_hack\\__init__.py:11: UserWarning: Distutils was imported before Setuptools, but importing Setuptools also replaces the `distutils` module in `sys.modules`. This may lead to undesirable behaviors or errors. To avoid these issues, avoid using distutils directly, ensure that setuptools is installed in the traditional way (e.g. not an editable install), and/or make sure that setuptools is always imported before distutils.\n",
      "  warnings.warn(\n",
      "c:\\Users\\paulm\\anaconda3\\envs\\notebook-6.5.7\\Lib\\site-packages\\_distutils_hack\\__init__.py:26: UserWarning: Setuptools is replacing distutils.\n",
      "  warnings.warn(\"Setuptools is replacing distutils.\")\n"
     ]
    }
   ],
   "source": [
    "# Définir les modèles à tester avec leurs paramètres\n",
    "models = [\n",
    "    ('Dummy Classifier', DummyClassifier(strategy='most_frequent')),\n",
    "    ('Random Forest', RandomForestClassifier(class_weight='balanced', random_state=42)),\n",
    "    ('Logistic Regression', LogisticRegression(class_weight='balanced', random_state=42)),\n",
    "    ('K-Nearest Neighbors', KNeighborsClassifier()),\n",
    "    ('XGBoost', xgb.XGBClassifier(use_label_encoder=False, eval_metric='logloss', random_state=42))\n",
    "]\n",
    "\n",
    "# Définir les paramètres à tester pour chaque modèle (le DummyClassifier n'a pas de paramètres à ajuster)\n",
    "params = {\n",
    "    'Dummy Classifier': {},\n",
    "    'Random Forest': {'n_estimators': [50, 100]},\n",
    "    'Logistic Regression': {'C': [1.0, 10.0]},\n",
    "    'K-Nearest Neighbors': {'n_neighbors': [5, 10]},\n",
    "    'XGBoost': {'n_estimators': [50, 100], 'learning_rate': [0.1, 0.01], 'max_depth': [3, 5]}\n",
    "}\n",
    "\n",
    "# Configurer l'expérience MLflow\n",
    "mlflow.set_experiment(\"Credit Scoring Experiment\")\n",
    "\n",
    "# Échantillonner les données\n",
    "sample_size = 0.1  # Utiliser 10% des données pour un échantillonnage rapide\n",
    "X_train_sample, _, y_train_sample, _ = train_test_split(X_train, y_train, test_size=(1 - sample_size), random_state=42)\n",
    "X_test_sample, _, y_test_sample, _ = train_test_split(X_test, y_test, test_size=(1 - sample_size), random_state=42)\n",
    "\n",
    "# Tester les modèles et trouver les meilleurs paramètres\n",
    "for name, model in models:\n",
    "    with mlflow.start_run(run_name=name):\n",
    "        print(f\"Entraînement du modèle {name}...\")\n",
    "        \n",
    "        if name == 'Dummy Classifier':\n",
    "            model.fit(X_train_sample, y_train_sample)\n",
    "            best_model = model\n",
    "            y_pred = model.predict(X_test_sample)\n",
    "        else:\n",
    "            grid_search = GridSearchCV(estimator=model, param_grid=params[name], scoring='f1', cv=3)\n",
    "            grid_search.fit(X_train_sample, y_train_sample)\n",
    "            \n",
    "            # Loguer les paramètres dans MLflow\n",
    "            mlflow.log_params(grid_search.best_params_)\n",
    "            \n",
    "            # Afficher les meilleurs paramètres et le score F1\n",
    "            print(f\"Meilleurs paramètres pour {name}: {grid_search.best_params_}\")\n",
    "            print(f\"Score F1 moyen sur le jeu de validation: {grid_search.best_score_:.3f}\")\n",
    "            \n",
    "            # Utiliser le meilleur modèle pour les prédictions\n",
    "            best_model = grid_search.best_estimator_\n",
    "            y_pred = best_model.predict(X_test_sample)\n",
    "        \n",
    "        # Évaluer le modèle avec le meilleur seuil pour minimiser le coût métier\n",
    "        y_prob = best_model.predict_proba(X_test_sample)[:, 1]\n",
    "        thresholds = np.linspace(0, 1, 100)\n",
    "        costs = []\n",
    "        for threshold in thresholds:\n",
    "            y_pred_thresholded = (y_prob > threshold).astype(int)\n",
    "            fp = np.sum((y_pred_thresholded == 1) & (y_test_sample == 0)) * cost_fp\n",
    "            fn = np.sum((y_pred_thresholded == 0) & (y_test_sample == 1)) * cost_fn\n",
    "            total_cost = fp + fn\n",
    "            costs.append(total_cost)\n",
    "        \n",
    "        best_threshold = thresholds[np.argmin(costs)]\n",
    "        print(f\"Meilleur seuil pour minimiser le coût métier avec {name}: {best_threshold}\")\n",
    "        \n",
    "        y_pred_best_threshold = (y_prob > best_threshold).astype(int)\n",
    "        \n",
    "        # Afficher le rapport de classification et la matrice de confusion\n",
    "        classification_report_str = classification_report(y_test_sample, y_pred_best_threshold)\n",
    "        confusion_matrix_str = confusion_matrix(y_test_sample, y_pred_best_threshold)\n",
    "        \n",
    "        print(f\"Rapport de classification avec le meilleur seuil pour {name}:\")\n",
    "        print(classification_report_str)\n",
    "        \n",
    "        print(f\"Matrice de confusion avec le meilleur seuil pour {name}:\")\n",
    "        print(confusion_matrix_str)\n",
    "        print()\n",
    "        \n",
    "        # Loguer les métriques et les résultats dans MLflow\n",
    "        mlflow.log_metric(\"best_score_f1\", grid_search.best_score_ if name != 'Dummy Classifier' else 0)\n",
    "        mlflow.log_metric(\"best_threshold\", best_threshold)\n",
    "        mlflow.log_text(classification_report_str, \"classification_report.txt\")\n",
    "        mlflow.log_text(str(confusion_matrix_str), \"confusion_matrix.txt\")\n",
    "        \n",
    "        # Loguer le modèle\n",
    "        mlflow.sklearn.log_model(best_model, \"model\")"
   ]
  },
  {
   "cell_type": "markdown",
   "id": "04968d3f",
   "metadata": {},
   "source": [
    "Conclusion générale:\n",
    "\n",
    "- Dummy Classifier sert de baseline et ne détecte aucune instance de la classe 1.\n",
    "- Random Forest et Logistic Regression ont des performances intermédiaires, avec Logistic Regression offrant un meilleur - compromis entre précision et recall pour la classe 1.\n",
    "- KNN a des performances médiocres pour la classe 1.\n",
    "- XGBoost est le meilleur modèle parmi ceux testés pour détecter la classe 1, avec un bon compromis entre précision et recall, rendant ses résultats plus équilibrés et utilisables en pratique.\n"
   ]
  },
  {
   "cell_type": "markdown",
   "id": "553dc5af",
   "metadata": {},
   "source": [
    "En utilisant le score métier, nous avons pu ajuster le modèle pour minimiser le coût associé aux erreurs de classification, en particulier en accordant plus d'importance à la réduction des faux négatifs (FN). Cela permet de répondre aux exigences spécifiques du projet où le coût d'un FN est considérablement plus élevé que celui d'un FP."
   ]
  }
 ],
 "metadata": {
  "kernelspec": {
   "display_name": "Python 3 (ipykernel)",
   "language": "python",
   "name": "python3"
  },
  "language_info": {
   "codemirror_mode": {
    "name": "ipython",
    "version": 3
   },
   "file_extension": ".py",
   "mimetype": "text/x-python",
   "name": "python",
   "nbconvert_exporter": "python",
   "pygments_lexer": "ipython3",
   "version": "3.11.9"
  }
 },
 "nbformat": 4,
 "nbformat_minor": 5
}
