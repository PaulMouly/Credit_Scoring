{
 "cells": [
  {
   "cell_type": "code",
   "execution_count": 4,
   "metadata": {},
   "outputs": [
    {
     "name": "stdout",
     "output_type": "stream",
     "text": [
      "Requirement already satisfied: scikit-learn in c:\\users\\paulm\\anaconda3\\envs\\notebook-6.5.7\\lib\\site-packages (1.5.1)Note: you may need to restart the kernel to use updated packages.\n",
      "\n",
      "Requirement already satisfied: numpy>=1.19.5 in c:\\users\\paulm\\anaconda3\\envs\\notebook-6.5.7\\lib\\site-packages (from scikit-learn) (1.26.4)\n",
      "Requirement already satisfied: scipy>=1.6.0 in c:\\users\\paulm\\anaconda3\\envs\\notebook-6.5.7\\lib\\site-packages (from scikit-learn) (1.14.0)\n",
      "Requirement already satisfied: joblib>=1.2.0 in c:\\users\\paulm\\anaconda3\\envs\\notebook-6.5.7\\lib\\site-packages (from scikit-learn) (1.4.2)\n",
      "Requirement already satisfied: threadpoolctl>=3.1.0 in c:\\users\\paulm\\anaconda3\\envs\\notebook-6.5.7\\lib\\site-packages (from scikit-learn) (3.5.0)\n"
     ]
    }
   ],
   "source": [
    "pip install --upgrade scikit-learn"
   ]
  },
  {
   "cell_type": "code",
   "execution_count": 2,
   "metadata": {},
   "outputs": [],
   "source": [
    "import os\n",
    "import pandas as pd\n",
    "import numpy as np\n",
    "import mlflow\n",
    "import mlflow.sklearn\n",
    "from sklearn.model_selection import train_test_split, GridSearchCV\n",
    "from sklearn.metrics import classification_report, confusion_matrix\n",
    "from sklearn.ensemble import RandomForestClassifier\n",
    "from sklearn.preprocessing import OrdinalEncoder\n",
    "from sklearn.impute import SimpleImputer"
   ]
  },
  {
   "cell_type": "code",
   "execution_count": 3,
   "metadata": {},
   "outputs": [
    {
     "name": "stdout",
     "output_type": "stream",
     "text": [
      "Colonne 'NAME_CONTRACT_TYPE' contient 2 valeurs uniques.\n",
      "Colonne 'CODE_GENDER' contient 3 valeurs uniques.\n",
      "Colonne 'FLAG_OWN_CAR' contient 2 valeurs uniques.\n",
      "Colonne 'FLAG_OWN_REALTY' contient 2 valeurs uniques.\n",
      "Colonne 'NAME_TYPE_SUITE' contient 7 valeurs uniques.\n",
      "Colonne 'NAME_INCOME_TYPE' contient 8 valeurs uniques.\n",
      "Colonne 'NAME_EDUCATION_TYPE' contient 5 valeurs uniques.\n",
      "Colonne 'NAME_FAMILY_STATUS' contient 6 valeurs uniques.\n",
      "Colonne 'NAME_HOUSING_TYPE' contient 6 valeurs uniques.\n",
      "Colonne 'OCCUPATION_TYPE' contient 18 valeurs uniques.\n",
      "Colonne 'WEEKDAY_APPR_PROCESS_START' contient 7 valeurs uniques.\n",
      "Colonne 'ORGANIZATION_TYPE' contient 58 valeurs uniques.\n",
      "Colonne 'FONDKAPREMONT_MODE' contient 4 valeurs uniques.\n",
      "Colonne 'HOUSETYPE_MODE' contient 3 valeurs uniques.\n",
      "Colonne 'WALLSMATERIAL_MODE' contient 7 valeurs uniques.\n",
      "Colonne 'EMERGENCYSTATE_MODE' contient 2 valeurs uniques.\n"
     ]
    }
   ],
   "source": [
    "# Charger les données\n",
    "chemin_dossier = \"C:/Users/paulm/Documents/GitHub/Projet7/data/\"\n",
    "df = pd.read_csv(os.path.join(chemin_dossier, 'processed_data.csv'))\n",
    "\n",
    "# Sélectionner les colonnes catégorielles\n",
    "colonnes_categorielles = df.select_dtypes(include='object').columns.tolist()\n",
    "\n",
    "# Afficher le nombre de valeurs uniques dans chaque colonne catégorielle\n",
    "for col in colonnes_categorielles:\n",
    "    nb_valeurs_uniques = df[col].nunique()\n",
    "    print(f\"Colonne '{col}' contient {nb_valeurs_uniques} valeurs uniques.\")\n"
   ]
  },
  {
   "cell_type": "code",
   "execution_count": null,
   "metadata": {},
   "outputs": [],
   "source": [
    "# Supprimer les colonnes avec trop de valeurs uniques\n",
    "colonnes_a_supprimer = ['ORGANIZATION_TYPE', 'OCCUPATION_TYPE']\n",
    "df.drop(columns=colonnes_a_supprimer, inplace=True)"
   ]
  },
  {
   "cell_type": "code",
   "execution_count": 8,
   "metadata": {},
   "outputs": [
    {
     "name": "stdout",
     "output_type": "stream",
     "text": [
      "Colonnes avec des valeurs infinies :\n",
      "PREV_APP_CREDIT_PERC_MAX      PREV_APP_CREDIT_PERC_MAX\n",
      "PREV_APP_CREDIT_PERC_MEAN    PREV_APP_CREDIT_PERC_MEAN\n",
      "INSTAL_PAYMENT_PERC_MEAN      INSTAL_PAYMENT_PERC_MEAN\n",
      "INSTAL_PAYMENT_PERC_SUM        INSTAL_PAYMENT_PERC_SUM\n",
      "dtype: object\n",
      "\n",
      "Indices des lignes avec des valeurs infinies :\n",
      "[5687, 60477, 79077, 89018, 98509, 126768, 128791, 140426, 152087, 167136, 199103, 201086, 236164, 238381, 272829, 277962, 287300, 292852, 305373]\n",
      "\n",
      "Reste-t-il des valeurs infinies ?\n",
      "False\n"
     ]
    }
   ],
   "source": [
    "# Identifier les colonnes contenant des valeurs infinies\n",
    "infinite_cols = df.columns.to_series()[np.isinf(df).any()]\n",
    "\n",
    "# Afficher les colonnes avec des valeurs infinies\n",
    "print(\"Colonnes avec des valeurs infinies :\")\n",
    "print(infinite_cols)\n",
    "\n",
    "# Identifier les lignes contenant des valeurs infinies\n",
    "rows_with_infs = df.index[np.isinf(df).any(axis=1)]\n",
    "\n",
    "# Afficher les indices des lignes contenant des valeurs infinies\n",
    "print(\"\\nIndices des lignes avec des valeurs infinies :\")\n",
    "print(rows_with_infs.tolist())\n",
    "\n",
    "# Supprimer les lignes contenant des valeurs infinies\n",
    "df.drop(rows_with_infs, inplace=True)\n",
    "\n",
    "# Vérifier si des valeurs infinies existent encore après suppression\n",
    "print(\"\\nReste-t-il des valeurs infinies ?\")\n",
    "print(np.isinf(df).any().any())"
   ]
  },
  {
   "cell_type": "code",
   "execution_count": 10,
   "metadata": {},
   "outputs": [
    {
     "name": "stdout",
     "output_type": "stream",
     "text": [
      "Entraînement du modèle Random Forest...\n",
      "Meilleurs paramètres pour Random Forest: {'max_depth': 10, 'n_estimators': 100}\n",
      "Score F1 moyen sur le jeu de validation: 0.246\n",
      "Meilleur seuil pour minimiser le coût métier avec Random Forest: 0.38383838383838387\n",
      "Rapport de classification avec le meilleur seuil pour Random Forest:\n",
      "              precision    recall  f1-score   support\n",
      "\n",
      "         0.0       0.96      0.72      0.82      5663\n",
      "         1.0       0.16      0.62      0.25       486\n",
      "\n",
      "    accuracy                           0.71      6149\n",
      "   macro avg       0.56      0.67      0.54      6149\n",
      "weighted avg       0.89      0.71      0.78      6149\n",
      "\n",
      "Matrice de confusion avec le meilleur seuil pour Random Forest:\n",
      "[[4082 1581]\n",
      " [ 187  299]]\n",
      "\n"
     ]
    }
   ],
   "source": [
    "cost_fp = 1  # Coût d'un faux positif\n",
    "cost_fn = 10  # Coût d'un faux négatif (10 fois le coût d'un FP)\n",
    "\n",
    "# Vérifier les types de données et les valeurs\n",
    "# Assurez-vous que les colonnes non numériques sont correctement gérées avant l'encodage\n",
    "non_numeric_cols = df.select_dtypes(exclude=[np.number]).columns\n",
    "df.drop(columns=non_numeric_cols, inplace=True)\n",
    "\n",
    "# Encodage des variables catégorielles avec OrdinalEncoder\n",
    "ordinal_encoder = OrdinalEncoder()\n",
    "df_encoded = pd.DataFrame(ordinal_encoder.fit_transform(df), columns=df.columns)\n",
    "\n",
    "# Gestion des valeurs manquantes avec SimpleImputer\n",
    "imputer = SimpleImputer(strategy='mean')\n",
    "X = pd.DataFrame(imputer.fit_transform(df_encoded.drop(columns=['TARGET'])), columns=df_encoded.drop(columns=['TARGET']).columns)\n",
    "\n",
    "# Séparer les caractéristiques et la cible\n",
    "y = df_encoded['TARGET']\n",
    "\n",
    "# Séparer les données en ensemble d'entraînement et de test\n",
    "X_train, X_test, y_train, y_test = train_test_split(X, y, test_size=0.2, random_state=42)\n",
    "\n",
    "# Définir les modèles à tester avec leurs paramètres\n",
    "models = [\n",
    "    ('Random Forest', RandomForestClassifier(class_weight='balanced', random_state=42))\n",
    "]\n",
    "\n",
    "params = {\n",
    "    'Random Forest': {'n_estimators': [50, 100], 'max_depth': [None, 10, 20]}\n",
    "}\n",
    "\n",
    "# Configurer l'expérience MLflow\n",
    "mlflow.set_experiment(\"Credit Scoring Experiment\")\n",
    "\n",
    "# Échantillonner les données\n",
    "sample_size = 0.1  # Utiliser 10% des données pour un échantillonnage rapide\n",
    "X_train_sample, _, y_train_sample, _ = train_test_split(X_train, y_train, test_size=(1 - sample_size), random_state=42)\n",
    "X_test_sample, _, y_test_sample, _ = train_test_split(X_test, y_test, test_size=(1 - sample_size), random_state=42)\n",
    "\n",
    "# Tester les modèles et trouver les meilleurs paramètres\n",
    "for name, model in models:\n",
    "    with mlflow.start_run(run_name=name):\n",
    "        print(f\"Entraînement du modèle {name}...\")\n",
    "\n",
    "        grid_search = GridSearchCV(estimator=model, param_grid=params[name], scoring='f1', cv=3)\n",
    "        grid_search.fit(X_train_sample, y_train_sample)\n",
    "\n",
    "        # Loguer les paramètres dans MLflow\n",
    "        mlflow.log_params(grid_search.best_params_)\n",
    "\n",
    "        # Afficher les meilleurs paramètres et le score F1\n",
    "        print(f\"Meilleurs paramètres pour {name}: {grid_search.best_params_}\")\n",
    "        print(f\"Score F1 moyen sur le jeu de validation: {grid_search.best_score_:.3f}\")\n",
    "\n",
    "        # Utiliser le meilleur modèle pour les prédictions\n",
    "        best_model = grid_search.best_estimator_\n",
    "        y_pred = best_model.predict(X_test_sample)\n",
    "\n",
    "        # Évaluer le modèle avec le meilleur seuil pour minimiser le coût métier\n",
    "        y_prob = best_model.predict_proba(X_test_sample)[:, 1]\n",
    "        thresholds = np.linspace(0, 1, 100)\n",
    "        costs = []\n",
    "        for threshold in thresholds:\n",
    "            y_pred_thresholded = (y_prob > threshold).astype(int)\n",
    "            fp = np.sum((y_pred_thresholded == 1) & (y_test_sample == 0)) * cost_fp\n",
    "            fn = np.sum((y_pred_thresholded == 0) & (y_test_sample == 1)) * cost_fn\n",
    "            total_cost = fp + fn\n",
    "            costs.append(total_cost)\n",
    "\n",
    "        best_threshold = thresholds[np.argmin(costs)]\n",
    "        print(f\"Meilleur seuil pour minimiser le coût métier avec {name}: {best_threshold}\")\n",
    "\n",
    "        y_pred_best_threshold = (y_prob > best_threshold).astype(int)\n",
    "\n",
    "        # Afficher le rapport de classification et la matrice de confusion\n",
    "        classification_report_str = classification_report(y_test_sample, y_pred_best_threshold)\n",
    "        confusion_matrix_str = confusion_matrix(y_test_sample, y_pred_best_threshold)\n",
    "\n",
    "        print(f\"Rapport de classification avec le meilleur seuil pour {name}:\")\n",
    "        print(classification_report_str)\n",
    "\n",
    "        print(f\"Matrice de confusion avec le meilleur seuil pour {name}:\")\n",
    "        print(confusion_matrix_str)\n",
    "        print()\n",
    "\n",
    "        # Loguer les métriques et les résultats dans MLflow\n",
    "        mlflow.log_metric(\"best_score_f1\", grid_search.best_score_)\n",
    "        mlflow.log_metric(\"best_threshold\", best_threshold)\n",
    "        mlflow.log_text(classification_report_str, \"classification_report.txt\")\n",
    "        mlflow.log_text(str(confusion_matrix_str), \"confusion_matrix.txt\")\n",
    "\n",
    "        # Loguer le modèle\n",
    "        mlflow.sklearn.log_model(best_model, \"model\")\n"
   ]
  }
 ],
 "metadata": {
  "kernelspec": {
   "display_name": "notebook-6.5.7",
   "language": "python",
   "name": "python3"
  },
  "language_info": {
   "codemirror_mode": {
    "name": "ipython",
    "version": 3
   },
   "file_extension": ".py",
   "mimetype": "text/x-python",
   "name": "python",
   "nbconvert_exporter": "python",
   "pygments_lexer": "ipython3",
   "version": "3.11.9"
  }
 },
 "nbformat": 4,
 "nbformat_minor": 2
}
