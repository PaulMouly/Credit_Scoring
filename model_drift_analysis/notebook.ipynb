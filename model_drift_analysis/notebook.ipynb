{
 "cells": [
  {
   "cell_type": "markdown",
   "metadata": {},
   "source": [
    "#### Importation des librairies :"
   ]
  },
  {
   "cell_type": "code",
   "execution_count": 4,
   "metadata": {},
   "outputs": [
    {
     "name": "stdout",
     "output_type": "stream",
     "text": [
      "Collecting evidently==0.2.8\n",
      "  Downloading evidently-0.2.8-py3-none-any.whl.metadata (1.3 kB)\n",
      "Requirement already satisfied: plotly>=5.5.0 in c:\\users\\paulm\\anaconda3\\lib\\site-packages (from evidently==0.2.8) (5.22.0)\n",
      "Requirement already satisfied: statsmodels>=0.12.2 in c:\\users\\paulm\\anaconda3\\lib\\site-packages (from evidently==0.2.8) (0.14.2)\n",
      "Requirement already satisfied: scikit-learn>=0.24.0 in c:\\users\\paulm\\anaconda3\\lib\\site-packages (from evidently==0.2.8) (1.4.2)\n",
      "Requirement already satisfied: pandas>=1.3.5 in c:\\users\\paulm\\anaconda3\\lib\\site-packages (from evidently==0.2.8) (2.2.2)\n",
      "Requirement already satisfied: numpy>=1.19.5 in c:\\users\\paulm\\anaconda3\\lib\\site-packages (from evidently==0.2.8) (1.26.4)\n",
      "Requirement already satisfied: nltk>=3.6.7 in c:\\users\\paulm\\anaconda3\\lib\\site-packages (from evidently==0.2.8) (3.8.1)\n",
      "Requirement already satisfied: scipy>=1.5.4 in c:\\users\\paulm\\anaconda3\\lib\\site-packages (from evidently==0.2.8) (1.13.1)\n",
      "Requirement already satisfied: requests>=2.19.0 in c:\\users\\paulm\\anaconda3\\lib\\site-packages (from evidently==0.2.8) (2.32.2)\n",
      "Requirement already satisfied: PyYAML>=5.1 in c:\\users\\paulm\\anaconda3\\lib\\site-packages (from evidently==0.2.8) (6.0.1)\n",
      "Collecting pydantic<2 (from evidently==0.2.8)\n",
      "  Downloading pydantic-1.10.17-cp312-cp312-win_amd64.whl.metadata (153 kB)\n",
      "     ---------------------------------------- 0.0/153.0 kB ? eta -:--:--\n",
      "     ------- ----------------------------- 30.7/153.0 kB 640.0 kB/s eta 0:00:01\n",
      "     -------------------------------------- 153.0/153.0 kB 1.8 MB/s eta 0:00:00\n",
      "Requirement already satisfied: click in c:\\users\\paulm\\anaconda3\\lib\\site-packages (from nltk>=3.6.7->evidently==0.2.8) (8.1.7)\n",
      "Requirement already satisfied: joblib in c:\\users\\paulm\\anaconda3\\lib\\site-packages (from nltk>=3.6.7->evidently==0.2.8) (1.4.2)\n",
      "Requirement already satisfied: regex>=2021.8.3 in c:\\users\\paulm\\anaconda3\\lib\\site-packages (from nltk>=3.6.7->evidently==0.2.8) (2023.10.3)\n",
      "Requirement already satisfied: tqdm in c:\\users\\paulm\\anaconda3\\lib\\site-packages (from nltk>=3.6.7->evidently==0.2.8) (4.66.4)\n",
      "Requirement already satisfied: python-dateutil>=2.8.2 in c:\\users\\paulm\\anaconda3\\lib\\site-packages (from pandas>=1.3.5->evidently==0.2.8) (2.9.0.post0)\n",
      "Requirement already satisfied: pytz>=2020.1 in c:\\users\\paulm\\anaconda3\\lib\\site-packages (from pandas>=1.3.5->evidently==0.2.8) (2024.1)\n",
      "Requirement already satisfied: tzdata>=2022.7 in c:\\users\\paulm\\anaconda3\\lib\\site-packages (from pandas>=1.3.5->evidently==0.2.8) (2023.3)\n",
      "Requirement already satisfied: tenacity>=6.2.0 in c:\\users\\paulm\\anaconda3\\lib\\site-packages (from plotly>=5.5.0->evidently==0.2.8) (8.2.2)\n",
      "Requirement already satisfied: packaging in c:\\users\\paulm\\anaconda3\\lib\\site-packages (from plotly>=5.5.0->evidently==0.2.8) (23.2)\n",
      "Requirement already satisfied: typing-extensions>=4.2.0 in c:\\users\\paulm\\anaconda3\\lib\\site-packages (from pydantic<2->evidently==0.2.8) (4.11.0)\n",
      "Requirement already satisfied: charset-normalizer<4,>=2 in c:\\users\\paulm\\anaconda3\\lib\\site-packages (from requests>=2.19.0->evidently==0.2.8) (2.0.4)\n",
      "Requirement already satisfied: idna<4,>=2.5 in c:\\users\\paulm\\anaconda3\\lib\\site-packages (from requests>=2.19.0->evidently==0.2.8) (3.7)\n",
      "Requirement already satisfied: urllib3<3,>=1.21.1 in c:\\users\\paulm\\anaconda3\\lib\\site-packages (from requests>=2.19.0->evidently==0.2.8) (2.2.2)\n",
      "Requirement already satisfied: certifi>=2017.4.17 in c:\\users\\paulm\\anaconda3\\lib\\site-packages (from requests>=2.19.0->evidently==0.2.8) (2024.7.4)\n",
      "Requirement already satisfied: threadpoolctl>=2.0.0 in c:\\users\\paulm\\anaconda3\\lib\\site-packages (from scikit-learn>=0.24.0->evidently==0.2.8) (2.2.0)\n",
      "Requirement already satisfied: patsy>=0.5.6 in c:\\users\\paulm\\anaconda3\\lib\\site-packages (from statsmodels>=0.12.2->evidently==0.2.8) (0.5.6)\n",
      "Requirement already satisfied: six in c:\\users\\paulm\\anaconda3\\lib\\site-packages (from patsy>=0.5.6->statsmodels>=0.12.2->evidently==0.2.8) (1.16.0)\n",
      "Requirement already satisfied: colorama in c:\\users\\paulm\\anaconda3\\lib\\site-packages (from click->nltk>=3.6.7->evidently==0.2.8) (0.4.6)\n",
      "Downloading evidently-0.2.8-py3-none-any.whl (12.1 MB)\n",
      "   ---------------------------------------- 0.0/12.1 MB ? eta -:--:--\n",
      "   ---- ----------------------------------- 1.5/12.1 MB 30.9 MB/s eta 0:00:01\n",
      "   ------------- -------------------------- 4.2/12.1 MB 44.9 MB/s eta 0:00:01\n",
      "   ------------- -------------------------- 4.2/12.1 MB 44.9 MB/s eta 0:00:01\n",
      "   ------------- -------------------------- 4.2/12.1 MB 44.9 MB/s eta 0:00:01\n",
      "   ------------- -------------------------- 4.2/12.1 MB 44.9 MB/s eta 0:00:01\n",
      "   ------------- -------------------------- 4.2/12.1 MB 44.9 MB/s eta 0:00:01\n",
      "   ------------- -------------------------- 4.2/12.1 MB 44.9 MB/s eta 0:00:01\n",
      "   ------------- -------------------------- 4.2/12.1 MB 44.9 MB/s eta 0:00:01\n",
      "   ----------------- ---------------------- 5.2/12.1 MB 12.2 MB/s eta 0:00:01\n",
      "   -------------------------- ------------- 8.1/12.1 MB 17.3 MB/s eta 0:00:01\n",
      "   --------------------------- ------------ 8.4/12.1 MB 17.9 MB/s eta 0:00:01\n",
      "   --------------------------- ------------ 8.4/12.1 MB 17.9 MB/s eta 0:00:01\n",
      "   --------------------------- ------------ 8.4/12.1 MB 17.9 MB/s eta 0:00:01\n",
      "   --------------------------- ------------ 8.4/12.1 MB 17.9 MB/s eta 0:00:01\n",
      "   --------------------------- ------------ 8.4/12.1 MB 17.9 MB/s eta 0:00:01\n",
      "   --------------------------- ------------ 8.4/12.1 MB 17.9 MB/s eta 0:00:01\n",
      "   --------------------------------- ------ 10.3/12.1 MB 12.8 MB/s eta 0:00:01\n",
      "   ---------------------------------------  12.1/12.1 MB 13.4 MB/s eta 0:00:01\n",
      "   ---------------------------------------- 12.1/12.1 MB 13.1 MB/s eta 0:00:00\n",
      "Downloading pydantic-1.10.17-cp312-cp312-win_amd64.whl (1.9 MB)\n",
      "   ---------------------------------------- 0.0/1.9 MB ? eta -:--:--\n",
      "   ---------------------------------------- 1.9/1.9 MB 41.1 MB/s eta 0:00:00\n",
      "Installing collected packages: pydantic, evidently\n",
      "  Attempting uninstall: pydantic\n",
      "    Found existing installation: pydantic 2.5.3\n",
      "    Uninstalling pydantic-2.5.3:\n",
      "      Successfully uninstalled pydantic-2.5.3\n",
      "  Attempting uninstall: evidently\n",
      "    Found existing installation: evidently 0.4.33\n",
      "    Uninstalling evidently-0.4.33:\n",
      "      Successfully uninstalled evidently-0.4.33\n",
      "Successfully installed evidently-0.2.8 pydantic-1.10.17\n",
      "Note: you may need to restart the kernel to use updated packages.\n"
     ]
    }
   ],
   "source": [
    "pip install evidently==0.2.8 "
   ]
  },
  {
   "cell_type": "code",
   "execution_count": 3,
   "metadata": {},
   "outputs": [
    {
     "name": "stdout",
     "output_type": "stream",
     "text": [
      "['ColumnMapping', 'ColumnType', 'TaskType', '__all__', '__builtins__', '__cached__', '__doc__', '__file__', '__loader__', '__name__', '__package__', '__path__', '__spec__', '__version__', '_jupyter_nbextension_paths', '_pydantic_compat', '_version', 'base_metric', 'calculation_engine', 'calculations', 'core', 'descriptors', 'features', 'metric_preset', 'metric_results', 'metrics', 'model', 'nbextension', 'options', 'pipeline', 'pydantic_utils', 'renderers', 'report', 'suite', 'tests', 'ui', 'utils', 'version_info']\n"
     ]
    }
   ],
   "source": [
    "print(dir(evidently))"
   ]
  },
  {
   "cell_type": "code",
   "execution_count": 6,
   "metadata": {},
   "outputs": [
    {
     "name": "stdout",
     "output_type": "stream",
     "text": [
      "0.4.33\n"
     ]
    }
   ],
   "source": [
    "print(evidently.__version__)"
   ]
  },
  {
   "cell_type": "code",
   "execution_count": 2,
   "metadata": {},
   "outputs": [
    {
     "ename": "ModuleNotFoundError",
     "evalue": "No module named 'evidently.tabs'",
     "output_type": "error",
     "traceback": [
      "\u001b[1;31m---------------------------------------------------------------------------\u001b[0m",
      "\u001b[1;31mModuleNotFoundError\u001b[0m                       Traceback (most recent call last)",
      "Cell \u001b[1;32mIn[2], line 8\u001b[0m\n\u001b[0;32m      6\u001b[0m \u001b[38;5;28;01mfrom\u001b[39;00m \u001b[38;5;21;01mevidently\u001b[39;00m\u001b[38;5;21;01m.\u001b[39;00m\u001b[38;5;21;01mreport\u001b[39;00m \u001b[38;5;28;01mimport\u001b[39;00m Report\n\u001b[0;32m      7\u001b[0m \u001b[38;5;28;01mfrom\u001b[39;00m \u001b[38;5;21;01mevidently\u001b[39;00m\u001b[38;5;21;01m.\u001b[39;00m\u001b[38;5;21;01mmetrics\u001b[39;00m \u001b[38;5;28;01mimport\u001b[39;00m ColumnDriftMetric\n\u001b[1;32m----> 8\u001b[0m \u001b[38;5;28;01mfrom\u001b[39;00m \u001b[38;5;21;01mevidently\u001b[39;00m\u001b[38;5;21;01m.\u001b[39;00m\u001b[38;5;21;01mtabs\u001b[39;00m \u001b[38;5;28;01mimport\u001b[39;00m DataDriftTab\n",
      "\u001b[1;31mModuleNotFoundError\u001b[0m: No module named 'evidently.tabs'"
     ]
    }
   ],
   "source": [
    "import pandas as pd\n",
    "import numpy as np\n",
    "import matplotlib.pyplot as plt\n",
    "import seaborn as sns\n",
    "import evidently\n",
    "from evidently.report import Report\n",
    "from evidently.metrics import ColumnDriftMetric\n",
    "from evidently.tabs import DataDriftTab"
   ]
  },
  {
   "cell_type": "markdown",
   "metadata": {},
   "source": [
    "### Chargement des datasets"
   ]
  },
  {
   "cell_type": "code",
   "execution_count": null,
   "metadata": {},
   "outputs": [],
   "source": []
  }
 ],
 "metadata": {
  "kernelspec": {
   "display_name": "base",
   "language": "python",
   "name": "python3"
  },
  "language_info": {
   "codemirror_mode": {
    "name": "ipython",
    "version": 3
   },
   "file_extension": ".py",
   "mimetype": "text/x-python",
   "name": "python",
   "nbconvert_exporter": "python",
   "pygments_lexer": "ipython3",
   "version": "3.12.4"
  }
 },
 "nbformat": 4,
 "nbformat_minor": 2
}
