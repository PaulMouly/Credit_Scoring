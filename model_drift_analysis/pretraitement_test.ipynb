{
 "cells": [
  {
   "cell_type": "markdown",
   "metadata": {},
   "source": [
    "#### Importation des librairies :"
   ]
  },
  {
   "cell_type": "code",
   "execution_count": 1,
   "metadata": {},
   "outputs": [],
   "source": [
    "import os\n",
    "import pandas as pd\n",
    "import numpy as np\n",
    "from sklearn.impute import SimpleImputer\n",
    "from sklearn.preprocessing import StandardScaler\n",
    "from sklearn.preprocessing import OrdinalEncoder"
   ]
  },
  {
   "cell_type": "markdown",
   "metadata": {},
   "source": [
    "### Chargement des datasets"
   ]
  },
  {
   "cell_type": "code",
   "execution_count": 2,
   "metadata": {},
   "outputs": [],
   "source": [
    "# Chemin vers le dossier contenant les fichiers extraits\n",
    "dossier_data = \"C:/Users/paulm/Documents/Projet 7/Projet7withCSV/data\""
   ]
  },
  {
   "cell_type": "code",
   "execution_count": 10,
   "metadata": {},
   "outputs": [],
   "source": [
    "# Fonction pour charger les données\n",
    "def load_data(file_name):\n",
    "    return pd.read_csv(os.path.join(dossier_data, file_name))\n",
    "\n",
    "# Chargement des données d'application_train\n",
    "df_test = load_data('processed_data_test.csv')"
   ]
  },
  {
   "cell_type": "markdown",
   "metadata": {},
   "source": [
    "### Suppression des colonnes non pertinentes"
   ]
  },
  {
   "cell_type": "code",
   "execution_count": 13,
   "metadata": {},
   "outputs": [],
   "source": [
    "# Suppression des colonnes avec trop de valeurs uniques\n",
    "colonnes_a_supprimer = ['ORGANIZATION_TYPE', 'OCCUPATION_TYPE']\n",
    "df_test.drop(columns=colonnes_a_supprimer, inplace=True)"
   ]
  },
  {
   "cell_type": "code",
   "execution_count": 16,
   "metadata": {},
   "outputs": [
    {
     "name": "stdout",
     "output_type": "stream",
     "text": [
      "\n",
      "Reste-t-il des valeurs infinies ?\n",
      "False\n",
      "\n",
      "Reste-t-il des valeurs infinies après remplacement ?\n",
      "False\n"
     ]
    }
   ],
   "source": [
    "# Sélectionner uniquement les colonnes numériques\n",
    "colonnes_numeriques = df.select_dtypes(include=[np.number])\n",
    "\n",
    "# Identifier les colonnes contenant des valeurs infinies\n",
    "colonnes_infinies = colonnes_numeriques.columns.to_series()[np.isinf(colonnes_numeriques).any()]\n",
    "\n",
    "# Identifier les lignes contenant des valeurs infinies\n",
    "lignes_avec_infinis = df.index[np.isinf(colonnes_numeriques).any(axis=1)]\n",
    "\n",
    "# Suppression des lignes contenant des valeurs infinies\n",
    "df.drop(lignes_avec_infinis, inplace=True)\n",
    "\n",
    "# Sélection des colonnes numériques après la suppression des lignes\n",
    "colonnes_numeriques = df.select_dtypes(include=[np.number])\n",
    "\n",
    "# Vérification\n",
    "print(\"\\nReste-t-il des valeurs infinies ?\")\n",
    "reste_infinis = np.isinf(colonnes_numeriques).any().any()\n",
    "print(reste_infinis)\n",
    "\n",
    "# Si des valeurs infinies restent, les remplacer par NaN\n",
    "if reste_infinis:\n",
    "    df.replace([np.inf, -np.inf], np.nan, inplace=True)\n",
    "    print(\"\\nLes valeurs infinies ont été remplacées par NaN.\")\n",
    "\n",
    "# Vérification finale\n",
    "reste_infinis = np.isinf(colonnes_numeriques).any().any()\n",
    "print(\"\\nReste-t-il des valeurs infinies après remplacement ?\")\n",
    "print(reste_infinis)\n",
    "\n",
    "# Conserver la colonne d'identifiant unique\n",
    "id_column = 'SK_ID_CURR'\n",
    "df_id = df[[id_column]]  # Conserver les identifiants\n",
    "\n",
    "# Encodage des variables catégorielles avec OrdinalEncoder (hors colonne d'identifiant unique)\n",
    "ordinal_encoder = OrdinalEncoder()\n",
    "df_encoded = pd.DataFrame(ordinal_encoder.fit_transform(df.drop(columns=[id_column])), columns=df.drop(columns=[id_column]).columns)\n",
    "\n",
    "# Suppression des colonnes non numériques\n",
    "non_numeric_cols = df_encoded.select_dtypes(exclude=[np.number]).columns\n",
    "df_encoded.drop(columns=non_numeric_cols, inplace=True)\n",
    "\n",
    "# Gestion des valeurs manquantes avec SimpleImputer\n",
    "imputer = SimpleImputer(strategy='mean')\n",
    "X = pd.DataFrame(imputer.fit_transform(df_encoded), columns=df_encoded.columns)\n",
    "\n",
    "# Normalisation des données\n",
    "scaler = StandardScaler()\n",
    "X = pd.DataFrame(scaler.fit_transform(X), columns=X.columns)\n",
    "\n",
    "# Enregistrement des données prétraitées\n",
    "X_to_save = X.copy()\n",
    "X_to_save['SK_ID_CURR'] = df_id['SK_ID_CURR'].values\n",
    "\n",
    "# Utilisation de la méthode reindex pour réorganiser les colonnes\n",
    "columns = ['SK_ID_CURR'] + [col for col in X_to_save.columns if col != 'SK_ID_CURR']\n",
    "X_to_save = X_to_save[columns]\n",
    "\n",
    "# Enregistrez le DataFrame dans un fichier CSV\n",
    "X_to_save.to_csv('X_test_predictionV2.csv', index=False)"
   ]
  },
  {
   "cell_type": "code",
   "execution_count": 3,
   "metadata": {},
   "outputs": [
    {
     "name": "stdout",
     "output_type": "stream",
     "text": [
      "   SK_ID_CURR  NAME_CONTRACT_TYPE  CODE_GENDER  FLAG_OWN_CAR  FLAG_OWN_REALTY  \\\n",
      "0      100001                 0.0          0.0           0.0              0.0   \n",
      "1      100005                 0.0          0.0           0.0              0.0   \n",
      "2      100013                 0.0          0.0           0.0              0.0   \n",
      "3      100028                 0.0          0.0           0.0              0.0   \n",
      "4      100038                 0.0          0.0           0.0              0.0   \n",
      "\n",
      "   CNT_CHILDREN  AMT_INCOME_TOTAL  AMT_CREDIT  AMT_ANNUITY  AMT_GOODS_PRICE  \\\n",
      "0     -0.563843         -0.388937    0.342238    -0.579087         0.165654   \n",
      "1     -0.563843         -1.124703   -0.953771    -0.858210        -1.031148   \n",
      "2     -0.563843          0.662157    0.656255     1.971374         0.754245   \n",
      "3      2.278347          1.389838    2.285562     1.394484         2.467698   \n",
      "4      0.857252          0.371085    0.529546     0.360557         0.747705   \n",
      "\n",
      "   ...  CC_CNT_INSTALMENT_MATURE_CUM_MEAN  CC_CNT_INSTALMENT_MATURE_CUM_SUM  \\\n",
      "0  ...                      -9.203992e-13                     -8.481710e-14   \n",
      "1  ...                      -9.203992e-13                     -8.481710e-14   \n",
      "2  ...                       1.676975e+00                      1.693330e+00   \n",
      "3  ...                       1.756280e+00                      6.380489e-01   \n",
      "4  ...                      -9.203992e-13                     -8.481710e-14   \n",
      "\n",
      "   CC_NAME_CONTRACT_STATUS_Active_MEAN  CC_NAME_CONTRACT_STATUS_Approved_MEAN  \\\n",
      "0                        -2.694876e-12                                    0.0   \n",
      "1                        -2.694876e-12                                    0.0   \n",
      "2                         7.017796e-01                                    0.0   \n",
      "3                         7.017796e-01                                    0.0   \n",
      "4                        -2.694876e-12                                    0.0   \n",
      "\n",
      "   CC_NAME_CONTRACT_STATUS_Completed_MEAN  \\\n",
      "0                            1.134182e-13   \n",
      "1                            1.134182e-13   \n",
      "2                           -6.559064e-01   \n",
      "3                           -6.559064e-01   \n",
      "4                            1.134182e-13   \n",
      "\n",
      "   CC_NAME_CONTRACT_STATUS_Demand_MEAN  CC_NAME_CONTRACT_STATUS_Refused_MEAN  \\\n",
      "0                        -7.383137e-16                         -5.214324e-15   \n",
      "1                        -7.383137e-16                         -5.214324e-15   \n",
      "2                        -3.235125e-02                         -2.126125e-02   \n",
      "3                        -3.235125e-02                         -2.126125e-02   \n",
      "4                        -7.383137e-16                         -5.214324e-15   \n",
      "\n",
      "   CC_NAME_CONTRACT_STATUS_Sent proposal_MEAN  \\\n",
      "0                               -6.486444e-14   \n",
      "1                               -6.486444e-14   \n",
      "2                               -8.745748e-02   \n",
      "3                               -8.745748e-02   \n",
      "4                               -6.486444e-14   \n",
      "\n",
      "   CC_NAME_CONTRACT_STATUS_Signed_MEAN  CC_NAME_CONTRACT_STATUS_nan_MEAN  \n",
      "0                        -1.201321e-13                               0.0  \n",
      "1                        -1.201321e-13                               0.0  \n",
      "2                        -3.023356e-01                               0.0  \n",
      "3                        -3.023356e-01                               0.0  \n",
      "4                        -1.201321e-13                               0.0  \n",
      "\n",
      "[5 rows x 499 columns]\n",
      "Index(['SK_ID_CURR', 'NAME_CONTRACT_TYPE', 'CODE_GENDER', 'FLAG_OWN_CAR',\n",
      "       'FLAG_OWN_REALTY', 'CNT_CHILDREN', 'AMT_INCOME_TOTAL', 'AMT_CREDIT',\n",
      "       'AMT_ANNUITY', 'AMT_GOODS_PRICE',\n",
      "       ...\n",
      "       'CC_CNT_INSTALMENT_MATURE_CUM_MEAN', 'CC_CNT_INSTALMENT_MATURE_CUM_SUM',\n",
      "       'CC_NAME_CONTRACT_STATUS_Active_MEAN',\n",
      "       'CC_NAME_CONTRACT_STATUS_Approved_MEAN',\n",
      "       'CC_NAME_CONTRACT_STATUS_Completed_MEAN',\n",
      "       'CC_NAME_CONTRACT_STATUS_Demand_MEAN',\n",
      "       'CC_NAME_CONTRACT_STATUS_Refused_MEAN',\n",
      "       'CC_NAME_CONTRACT_STATUS_Sent proposal_MEAN',\n",
      "       'CC_NAME_CONTRACT_STATUS_Signed_MEAN',\n",
      "       'CC_NAME_CONTRACT_STATUS_nan_MEAN'],\n",
      "      dtype='object', length=499)\n"
     ]
    }
   ],
   "source": [
    "# Chemins vers les fichiers\n",
    "chemin_X_prediction = 'C:/Users/paulm/Documents/Projet 7/Projet7withCSV/data/X_predictionV1.csv'\n",
    "chemin_X_test = 'C:/Users/paulm/Documents/Projet 7/Projet7withCSV/model_drift_analysis/X_test_predictionV2.csv'\n",
    "chemin_X_test_final = 'C:/Users/paulm/Documents/Projet 7/Projet7withCSV/model_drift_analysis/X_test_prediction_encoded.csv'\n",
    "\n",
    "# Charger le fichier d'entraînement pour obtenir l'ordre des colonnes\n",
    "df_train = pd.read_csv(chemin_X_prediction)\n",
    "colonnes_attendues = df_train.columns.tolist()\n",
    "\n",
    "# Charger les données de test\n",
    "test_data = pd.read_csv(chemin_X_test)\n",
    "\n",
    "# Ajouter les colonnes manquantes avec des valeurs NaN\n",
    "colonnes_manquantes = [col for col in colonnes_attendues if col not in test_data.columns]\n",
    "for col in colonnes_manquantes:\n",
    "    test_data[col] = pd.NA\n",
    "\n",
    "# Réorganiser les colonnes du DataFrame de test pour qu'elles correspondent à l'ordre du fichier d'entraînement\n",
    "test_data = test_data[colonnes_attendues]\n",
    "\n",
    "# Encoder les colonnes catégorielles\n",
    "categorical_columns = test_data.select_dtypes(include=['category', 'object']).columns\n",
    "ordinal_encoder = OrdinalEncoder()\n",
    "test_data[categorical_columns] = ordinal_encoder.fit_transform(test_data[categorical_columns])\n",
    "\n",
    "# Convertir les colonnes en valeurs numériques\n",
    "test_data = test_data.apply(pd.to_numeric, errors='coerce')\n",
    "\n",
    "# Enregistrer le DataFrame de test prétraité dans un fichier CSV\n",
    "test_data.to_csv(chemin_X_test_final, index=False)\n",
    "\n",
    "# Vérifiez les modifications\n",
    "print(test_data.head())\n",
    "print(test_data.columns)\n"
   ]
  }
 ],
 "metadata": {
  "kernelspec": {
   "display_name": "base",
   "language": "python",
   "name": "python3"
  },
  "language_info": {
   "codemirror_mode": {
    "name": "ipython",
    "version": 3
   },
   "file_extension": ".py",
   "mimetype": "text/x-python",
   "name": "python",
   "nbconvert_exporter": "python",
   "pygments_lexer": "ipython3",
   "version": "3.12.4"
  }
 },
 "nbformat": 4,
 "nbformat_minor": 2
}
