{
 "cells": [
  {
   "cell_type": "markdown",
   "metadata": {},
   "source": [
    "#### Importation des librairies :"
   ]
  },
  {
   "cell_type": "code",
   "execution_count": 7,
   "metadata": {},
   "outputs": [],
   "source": [
    "import os\n",
    "import pandas as pd\n",
    "import numpy as np\n",
    "from sklearn.impute import SimpleImputer\n",
    "from sklearn.preprocessing import StandardScaler\n",
    "from sklearn.preprocessing import OrdinalEncoder"
   ]
  },
  {
   "cell_type": "markdown",
   "metadata": {},
   "source": [
    "### Chargement des datasets"
   ]
  },
  {
   "cell_type": "code",
   "execution_count": 2,
   "metadata": {},
   "outputs": [],
   "source": [
    "# Chemin vers le dossier contenant les fichiers extraits\n",
    "dossier_data = \"C:/Users/paulm/Documents/Projet 7/Projet7withCSV/data\""
   ]
  },
  {
   "cell_type": "code",
   "execution_count": 10,
   "metadata": {},
   "outputs": [],
   "source": [
    "# Fonction pour charger les données\n",
    "def load_data(file_name):\n",
    "    return pd.read_csv(os.path.join(dossier_data, file_name))\n",
    "\n",
    "# Chargement des données d'application_train\n",
    "df_test = load_data('processed_data_test.csv')"
   ]
  },
  {
   "cell_type": "markdown",
   "metadata": {},
   "source": [
    "### Suppression des colonnes non pertinentes"
   ]
  },
  {
   "cell_type": "code",
   "execution_count": 13,
   "metadata": {},
   "outputs": [],
   "source": [
    "# Suppression des colonnes avec trop de valeurs uniques\n",
    "colonnes_a_supprimer = ['ORGANIZATION_TYPE', 'OCCUPATION_TYPE']\n",
    "df_test.drop(columns=colonnes_a_supprimer, inplace=True)"
   ]
  },
  {
   "cell_type": "code",
   "execution_count": 16,
   "metadata": {},
   "outputs": [
    {
     "name": "stdout",
     "output_type": "stream",
     "text": [
      "\n",
      "Reste-t-il des valeurs infinies ?\n",
      "False\n",
      "\n",
      "Reste-t-il des valeurs infinies après remplacement ?\n",
      "False\n"
     ]
    }
   ],
   "source": [
    "# Sélectionner uniquement les colonnes numériques\n",
    "colonnes_numeriques = df.select_dtypes(include=[np.number])\n",
    "\n",
    "# Identifier les colonnes contenant des valeurs infinies\n",
    "colonnes_infinies = colonnes_numeriques.columns.to_series()[np.isinf(colonnes_numeriques).any()]\n",
    "\n",
    "# Identifier les lignes contenant des valeurs infinies\n",
    "lignes_avec_infinis = df.index[np.isinf(colonnes_numeriques).any(axis=1)]\n",
    "\n",
    "# Suppression des lignes contenant des valeurs infinies\n",
    "df.drop(lignes_avec_infinis, inplace=True)\n",
    "\n",
    "# Sélection des colonnes numériques après la suppression des lignes\n",
    "colonnes_numeriques = df.select_dtypes(include=[np.number])\n",
    "\n",
    "# Vérification\n",
    "print(\"\\nReste-t-il des valeurs infinies ?\")\n",
    "reste_infinis = np.isinf(colonnes_numeriques).any().any()\n",
    "print(reste_infinis)\n",
    "\n",
    "# Si des valeurs infinies restent, les remplacer par NaN\n",
    "if reste_infinis:\n",
    "    df.replace([np.inf, -np.inf], np.nan, inplace=True)\n",
    "    print(\"\\nLes valeurs infinies ont été remplacées par NaN.\")\n",
    "\n",
    "# Vérification finale\n",
    "reste_infinis = np.isinf(colonnes_numeriques).any().any()\n",
    "print(\"\\nReste-t-il des valeurs infinies après remplacement ?\")\n",
    "print(reste_infinis)\n",
    "\n",
    "# Conserver la colonne d'identifiant unique\n",
    "id_column = 'SK_ID_CURR'\n",
    "df_id = df[[id_column]]  # Conserver les identifiants\n",
    "\n",
    "# Encodage des variables catégorielles avec OrdinalEncoder (hors colonne d'identifiant unique)\n",
    "ordinal_encoder = OrdinalEncoder()\n",
    "df_encoded = pd.DataFrame(ordinal_encoder.fit_transform(df.drop(columns=[id_column])), columns=df.drop(columns=[id_column]).columns)\n",
    "\n",
    "# Suppression des colonnes non numériques\n",
    "non_numeric_cols = df_encoded.select_dtypes(exclude=[np.number]).columns\n",
    "df_encoded.drop(columns=non_numeric_cols, inplace=True)\n",
    "\n",
    "# Gestion des valeurs manquantes avec SimpleImputer\n",
    "imputer = SimpleImputer(strategy='mean')\n",
    "X = pd.DataFrame(imputer.fit_transform(df_encoded), columns=df_encoded.columns)\n",
    "\n",
    "# Normalisation des données\n",
    "scaler = StandardScaler()\n",
    "X = pd.DataFrame(scaler.fit_transform(X), columns=X.columns)\n",
    "\n",
    "# Enregistrement des données prétraitées\n",
    "X_to_save = X.copy()\n",
    "X_to_save['SK_ID_CURR'] = df_id['SK_ID_CURR'].values\n",
    "\n",
    "# Utilisation de la méthode reindex pour réorganiser les colonnes\n",
    "columns = ['SK_ID_CURR'] + [col for col in X_to_save.columns if col != 'SK_ID_CURR']\n",
    "X_to_save = X_to_save[columns]\n",
    "\n",
    "# Enregistrez le DataFrame dans un fichier CSV\n",
    "X_to_save.to_csv('X_test_predictionV2.csv', index=False)"
   ]
  }
 ],
 "metadata": {
  "kernelspec": {
   "display_name": "base",
   "language": "python",
   "name": "python3"
  },
  "language_info": {
   "codemirror_mode": {
    "name": "ipython",
    "version": 3
   },
   "file_extension": ".py",
   "mimetype": "text/x-python",
   "name": "python",
   "nbconvert_exporter": "python",
   "pygments_lexer": "ipython3",
   "version": "3.12.4"
  }
 },
 "nbformat": 4,
 "nbformat_minor": 2
}
