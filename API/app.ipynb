{
 "cells": [
  {
   "cell_type": "code",
   "execution_count": 1,
   "metadata": {},
   "outputs": [
    {
     "name": "stdout",
     "output_type": "stream",
     "text": [
      "Requirement already satisfied: flask in c:\\users\\paulm\\anaconda3\\lib\\site-packages (3.0.3)\n",
      "Requirement already satisfied: Werkzeug>=3.0.0 in c:\\users\\paulm\\anaconda3\\lib\\site-packages (from flask) (3.0.3)\n",
      "Requirement already satisfied: Jinja2>=3.1.2 in c:\\users\\paulm\\anaconda3\\lib\\site-packages (from flask) (3.1.4)\n",
      "Requirement already satisfied: itsdangerous>=2.1.2 in c:\\users\\paulm\\anaconda3\\lib\\site-packages (from flask) (2.2.0)\n",
      "Requirement already satisfied: click>=8.1.3 in c:\\users\\paulm\\anaconda3\\lib\\site-packages (from flask) (8.1.7)\n",
      "Requirement already satisfied: blinker>=1.6.2 in c:\\users\\paulm\\anaconda3\\lib\\site-packages (from flask) (1.6.2)\n",
      "Requirement already satisfied: colorama in c:\\users\\paulm\\anaconda3\\lib\\site-packages (from click>=8.1.3->flask) (0.4.6)\n",
      "Requirement already satisfied: MarkupSafe>=2.0 in c:\\users\\paulm\\anaconda3\\lib\\site-packages (from Jinja2>=3.1.2->flask) (2.1.3)\n",
      "Note: you may need to restart the kernel to use updated packages.\n"
     ]
    }
   ],
   "source": [
    "pip install flask"
   ]
  },
  {
   "cell_type": "code",
   "execution_count": 6,
   "metadata": {},
   "outputs": [
    {
     "name": "stdout",
     "output_type": "stream",
     "text": [
      "Modèle chargé avec succès depuis C:/Users/paulm/Documents/Projet 7/xgboost_model.pkl.\n"
     ]
    }
   ],
   "source": [
    "from flask import Flask, request, jsonify\n",
    "import pandas as pd\n",
    "import joblib\n",
    "import os\n",
    "import numpy as np\n",
    "import xgboost as xgb\n",
    "\n",
    "app = Flask(__name__)\n",
    "\n",
    "# Chemin vers le modèle pré-entraîné\n",
    "model_path = 'C:/Users/paulm/Documents/Projet 7/xgboost_model.pkl'\n",
    "\n",
    "# Charger le modèle pré-entraîné\n",
    "model = None\n",
    "if os.path.exists(model_path):\n",
    "    try:\n",
    "        model = joblib.load(model_path)\n",
    "        print(f\"Modèle chargé avec succès depuis {model_path}.\")\n",
    "    except Exception as e:\n",
    "        print(f\"Erreur lors du chargement du modèle : {str(e)}\")\n",
    "else:\n",
    "    print(f\"Le modèle {model_path} n'a pas été trouvé.\")\n",
    "    \n",
    "if model is None:\n",
    "    print(\"Impossible de continuer sans charger le modèle. Assurez-vous que le chemin du modèle est correct et réessayez.\")\n",
    "    exit(1)\n",
    "\n",
    "@app.route('/predict', methods=['POST'])\n",
    "def predict():\n",
    "    data_request = request.json\n",
    "\n",
    "    # Liste des features attendues pour la prédiction\n",
    "    features = [\n",
    "        'FLAG_EMP_PHONE',\n",
    "        'CC_CNT_DRAWINGS_CURRENT_MEAN',\n",
    "        'CC_AMT_RECEIVABLE_PRINCIPAL_MEAN',\n",
    "        'NAME_EDUCATION_TYPE',\n",
    "        'CC_MONTHS_BALANCE_SIZE',\n",
    "        'CC_AMT_BALANCE_MEAN',\n",
    "        'PREV_NAME_YIELD_GROUP_low_action_MEAN',\n",
    "        'PREV_DAYS_FIRST_DRAWING_MIN'\n",
    "    ]\n",
    "\n",
    "    # Vérifier si les features attendues sont dans la requête\n",
    "    for feature in features:\n",
    "        if feature not in data_request:\n",
    "            return jsonify({'error': f'{feature} est requis dans la requête'}), 400\n",
    "\n",
    "    # Préparer les données pour la prédiction\n",
    "    data_for_prediction = {\n",
    "        'FLAG_EMP_PHONE': float(data_request['FLAG_EMP_PHONE']),\n",
    "        'CC_CNT_DRAWINGS_CURRENT_MEAN': float(data_request['CC_CNT_DRAWINGS_CURRENT_MEAN']),\n",
    "        'CC_AMT_RECEIVABLE_PRINCIPAL_MEAN': float(data_request['CC_AMT_RECEIVABLE_PRINCIPAL_MEAN']),\n",
    "        'NAME_EDUCATION_TYPE': float(data_request['NAME_EDUCATION_TYPE']),\n",
    "        'CC_MONTHS_BALANCE_SIZE': float(data_request['CC_MONTHS_BALANCE_SIZE']),\n",
    "        'CC_AMT_BALANCE_MEAN': float(data_request['CC_AMT_BALANCE_MEAN']),\n",
    "        'PREV_NAME_YIELD_GROUP_low_action_MEAN': float(data_request['PREV_NAME_YIELD_GROUP_low_action_MEAN']),\n",
    "        'PREV_DAYS_FIRST_DRAWING_MIN': float(data_request['PREV_DAYS_FIRST_DRAWING_MIN'])\n",
    "    }\n",
    "\n",
    "    # Créer un DataFrame à partir des données pour la prédiction\n",
    "    df = pd.DataFrame([data_for_prediction])\n",
    "\n",
    "    # Faire la prédiction avec le modèle chargé\n",
    "    try:\n",
    "        prediction_proba = model.predict_proba(df)[:, 1]\n",
    "        prediction_class = (prediction_proba > 0.5).astype(int)  # Utilisation du seuil métier (0.5 ici)\n",
    "\n",
    "        return jsonify({\n",
    "            'prediction': {\n",
    "                'proba_default': float(prediction_proba[0]),\n",
    "                'class': 'accepté' if prediction_class[0] == 0 else 'refusé'  # 0 pour accepté, 1 pour refusé\n",
    "            }\n",
    "        })\n",
    "\n",
    "    except Exception as e:\n",
    "        print(f\"Erreur lors de la prédiction : {str(e)}\")\n",
    "        return jsonify({'error': 'Erreur lors de la prédiction'}), 500\n",
    "\n"
   ]
  }
 ],
 "metadata": {
  "kernelspec": {
   "display_name": "base",
   "language": "python",
   "name": "python3"
  },
  "language_info": {
   "codemirror_mode": {
    "name": "ipython",
    "version": 3
   },
   "file_extension": ".py",
   "mimetype": "text/x-python",
   "name": "python",
   "nbconvert_exporter": "python",
   "pygments_lexer": "ipython3",
   "version": "3.12.4"
  }
 },
 "nbformat": 4,
 "nbformat_minor": 2
}
